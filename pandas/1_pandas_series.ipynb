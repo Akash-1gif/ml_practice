{
 "cells": [
  {
   "cell_type": "markdown",
   "id": "fef6e0f3",
   "metadata": {},
   "source": [
    "# Introduction to Pandas"
   ]
  },
  {
   "cell_type": "code",
   "execution_count": 2,
   "id": "a7c923fa",
   "metadata": {},
   "outputs": [],
   "source": [
    "import numpy as np\n",
    "import pandas as pd"
   ]
  },
  {
   "cell_type": "markdown",
   "id": "467ce72c",
   "metadata": {},
   "source": [
    "## Creating a Series datatype using lists:"
   ]
  },
  {
   "cell_type": "code",
   "execution_count": 3,
   "id": "ac884e27",
   "metadata": {},
   "outputs": [
    {
     "data": {
      "text/plain": [
       "Maliha      31071999\n",
       "Zubair      10062000\n",
       "Akash       23122000\n",
       "Krithika    15072001\n",
       "dtype: int64"
      ]
     },
     "execution_count": 3,
     "metadata": {},
     "output_type": "execute_result"
    }
   ],
   "source": [
    "names=['Maliha','Zubair','Akash','Krithika']\n",
    "dob=[31071999,10062000,23122000,15072001]\n",
    "details=pd.Series(data=dob,index=names)\n",
    "details"
   ]
  },
  {
   "cell_type": "code",
   "execution_count": 4,
   "id": "4b9fe1b4",
   "metadata": {},
   "outputs": [
    {
     "data": {
      "text/plain": [
       "23122000"
      ]
     },
     "execution_count": 4,
     "metadata": {},
     "output_type": "execute_result"
    }
   ],
   "source": [
    "details[2]"
   ]
  },
  {
   "cell_type": "code",
   "execution_count": 5,
   "id": "d54846b6",
   "metadata": {},
   "outputs": [
    {
     "data": {
      "text/plain": [
       "10062000"
      ]
     },
     "execution_count": 5,
     "metadata": {},
     "output_type": "execute_result"
    }
   ],
   "source": [
    "details['Zubair']"
   ]
  },
  {
   "cell_type": "markdown",
   "id": "ccafaa80",
   "metadata": {},
   "source": [
    "## Creating a Series datatype using dictionary:"
   ]
  },
  {
   "cell_type": "code",
   "execution_count": 6,
   "id": "e8f5ac11",
   "metadata": {},
   "outputs": [
    {
     "data": {
      "text/plain": [
       "Peru               Lima\n",
       "Iceland       Reykjavik\n",
       "Fiji               Suva\n",
       "Morocco           Rabat\n",
       "Cuba             Havana\n",
       "Azerbaijan         Baku\n",
       "dtype: object"
      ]
     },
     "execution_count": 6,
     "metadata": {},
     "output_type": "execute_result"
    }
   ],
   "source": [
    "capitals={'Peru':'Lima','Iceland':'Reykjavik','Fiji':'Suva','Morocco':'Rabat','Cuba':'Havana','Azerbaijan':'Baku'}\n",
    "capitals=pd.Series(capitals)\n",
    "capitals"
   ]
  },
  {
   "cell_type": "code",
   "execution_count": 7,
   "id": "ed555d16",
   "metadata": {},
   "outputs": [
    {
     "data": {
      "text/plain": [
       "'Baku'"
      ]
     },
     "execution_count": 7,
     "metadata": {},
     "output_type": "execute_result"
    }
   ],
   "source": [
    "capitals['Azerbaijan']"
   ]
  },
  {
   "cell_type": "code",
   "execution_count": 8,
   "id": "2a3f2bd5",
   "metadata": {},
   "outputs": [
    {
     "data": {
      "text/plain": [
       "'Suva'"
      ]
     },
     "execution_count": 8,
     "metadata": {},
     "output_type": "execute_result"
    }
   ],
   "source": [
    "capitals[2]"
   ]
  },
  {
   "cell_type": "code",
   "execution_count": null,
   "id": "b01bdb8d",
   "metadata": {},
   "outputs": [],
   "source": []
  }
 ],
 "metadata": {
  "kernelspec": {
   "display_name": "Python 3 (ipykernel)",
   "language": "python",
   "name": "python3"
  },
  "language_info": {
   "codemirror_mode": {
    "name": "ipython",
    "version": 3
   },
   "file_extension": ".py",
   "mimetype": "text/x-python",
   "name": "python",
   "nbconvert_exporter": "python",
   "pygments_lexer": "ipython3",
   "version": "3.9.12"
  }
 },
 "nbformat": 4,
 "nbformat_minor": 5
}
