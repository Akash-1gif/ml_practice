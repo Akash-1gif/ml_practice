{
 "cells": [
  {
   "cell_type": "markdown",
   "id": "fef6e0f3",
   "metadata": {},
   "source": [
    "# Introduction to Pandas"
   ]
  },
  {
   "cell_type": "code",
   "execution_count": 1,
   "id": "a7c923fa",
   "metadata": {},
   "outputs": [],
   "source": [
    "import numpy as np\n",
    "import pandas as pd"
   ]
  },
  {
   "cell_type": "markdown",
   "id": "467ce72c",
   "metadata": {},
   "source": [
    "## Creating a Series datatype using lists:"
   ]
  },
  {
   "cell_type": "code",
   "execution_count": 2,
   "id": "ac884e27",
   "metadata": {},
   "outputs": [
    {
     "data": {
      "text/plain": [
       "Maliha      31071999\n",
       "Zubair      10062000\n",
       "Akash       23122000\n",
       "Krithika    15072001\n",
       "dtype: int64"
      ]
     },
     "execution_count": 2,
     "metadata": {},
     "output_type": "execute_result"
    }
   ],
   "source": [
    "names=['Maliha','Zubair','Akash','Krithika']\n",
    "dob=[31071999,10062000,23122000,15072001]\n",
    "details=pd.Series(data=dob,index=names)\n",
    "details"
   ]
  },
  {
   "cell_type": "code",
   "execution_count": 3,
   "id": "4b9fe1b4",
   "metadata": {},
   "outputs": [
    {
     "data": {
      "text/plain": [
       "23122000"
      ]
     },
     "execution_count": 3,
     "metadata": {},
     "output_type": "execute_result"
    }
   ],
   "source": [
    "details[2]"
   ]
  },
  {
   "cell_type": "code",
   "execution_count": 4,
   "id": "d54846b6",
   "metadata": {},
   "outputs": [
    {
     "data": {
      "text/plain": [
       "10062000"
      ]
     },
     "execution_count": 4,
     "metadata": {},
     "output_type": "execute_result"
    }
   ],
   "source": [
    "details['Zubair']"
   ]
  },
  {
   "cell_type": "markdown",
   "id": "ccafaa80",
   "metadata": {},
   "source": [
    "## Creating a Series datatype using dictionary:"
   ]
  },
  {
   "cell_type": "code",
   "execution_count": 5,
   "id": "e8f5ac11",
   "metadata": {},
   "outputs": [
    {
     "data": {
      "text/plain": [
       "Peru               Lima\n",
       "Iceland       Reykjavik\n",
       "Fiji               Suva\n",
       "Morocco           Rabat\n",
       "Cuba             Havana\n",
       "Azerbaijan         Baku\n",
       "dtype: object"
      ]
     },
     "execution_count": 5,
     "metadata": {},
     "output_type": "execute_result"
    }
   ],
   "source": [
    "capitals={'Peru':'Lima','Iceland':'Reykjavik','Fiji':'Suva','Morocco':'Rabat','Cuba':'Havana','Azerbaijan':'Baku'}\n",
    "capitals=pd.Series(capitals)\n",
    "capitals"
   ]
  },
  {
   "cell_type": "code",
   "execution_count": 6,
   "id": "ed555d16",
   "metadata": {},
   "outputs": [
    {
     "data": {
      "text/plain": [
       "'Baku'"
      ]
     },
     "execution_count": 6,
     "metadata": {},
     "output_type": "execute_result"
    }
   ],
   "source": [
    "capitals['Azerbaijan']"
   ]
  },
  {
   "cell_type": "code",
   "execution_count": 7,
   "id": "2a3f2bd5",
   "metadata": {},
   "outputs": [
    {
     "data": {
      "text/plain": [
       "'Suva'"
      ]
     },
     "execution_count": 7,
     "metadata": {},
     "output_type": "execute_result"
    }
   ],
   "source": [
    "capitals[2]"
   ]
  },
  {
   "cell_type": "markdown",
   "id": "52d1ecaf",
   "metadata": {},
   "source": [
    "## Matching up Series objects based on indices:"
   ]
  },
  {
   "cell_type": "code",
   "execution_count": 9,
   "id": "c581b193",
   "metadata": {},
   "outputs": [],
   "source": [
    "s1={'Japan':80,'China':450,'India':200,'USA':250}\n",
    "s2={'Brazil':100,'China':900,'India':320,'USA':420}\n",
    "s1=pd.Series(s1)\n",
    "s2=pd.Series(s2)"
   ]
  },
  {
   "cell_type": "code",
   "execution_count": 10,
   "id": "a0f6f4f4",
   "metadata": {},
   "outputs": [
    {
     "data": {
      "text/plain": [
       "Japan     80\n",
       "China    450\n",
       "India    200\n",
       "USA      250\n",
       "dtype: int64"
      ]
     },
     "execution_count": 10,
     "metadata": {},
     "output_type": "execute_result"
    }
   ],
   "source": [
    "s1"
   ]
  },
  {
   "cell_type": "code",
   "execution_count": 11,
   "id": "b0ed9d12",
   "metadata": {},
   "outputs": [
    {
     "data": {
      "text/plain": [
       "Brazil    100\n",
       "China     900\n",
       "India     320\n",
       "USA       420\n",
       "dtype: int64"
      ]
     },
     "execution_count": 11,
     "metadata": {},
     "output_type": "execute_result"
    }
   ],
   "source": [
    "s2"
   ]
  },
  {
   "cell_type": "code",
   "execution_count": 12,
   "id": "fe9faf6a",
   "metadata": {},
   "outputs": [
    {
     "data": {
      "text/plain": [
       "Brazil       NaN\n",
       "China     1350.0\n",
       "India      520.0\n",
       "Japan        NaN\n",
       "USA        670.0\n",
       "dtype: float64"
      ]
     },
     "execution_count": 12,
     "metadata": {},
     "output_type": "execute_result"
    }
   ],
   "source": [
    "x1=s1+s2\n",
    "x1"
   ]
  },
  {
   "cell_type": "code",
   "execution_count": 13,
   "id": "fb4391d2",
   "metadata": {},
   "outputs": [
    {
     "data": {
      "text/plain": [
       "Brazil     100.0\n",
       "China     1350.0\n",
       "India      520.0\n",
       "Japan       80.0\n",
       "USA        670.0\n",
       "dtype: float64"
      ]
     },
     "execution_count": 13,
     "metadata": {},
     "output_type": "execute_result"
    }
   ],
   "source": [
    "x2=s1.add(s2,fill_value=0)\n",
    "x2"
   ]
  },
  {
   "cell_type": "markdown",
   "id": "d552602a",
   "metadata": {},
   "source": [
    "## Operations on Series objects:"
   ]
  },
  {
   "cell_type": "code",
   "execution_count": 14,
   "id": "efa9e132",
   "metadata": {},
   "outputs": [
    {
     "data": {
      "text/plain": [
       "Japan    160\n",
       "China    900\n",
       "India    400\n",
       "USA      500\n",
       "dtype: int64"
      ]
     },
     "execution_count": 14,
     "metadata": {},
     "output_type": "execute_result"
    }
   ],
   "source": [
    "s1=s1*2\n",
    "s1"
   ]
  },
  {
   "cell_type": "code",
   "execution_count": 15,
   "id": "cf6638f6",
   "metadata": {},
   "outputs": [
    {
     "data": {
      "text/plain": [
       "Brazil     50.0\n",
       "China     450.0\n",
       "India     160.0\n",
       "USA       210.0\n",
       "dtype: float64"
      ]
     },
     "execution_count": 15,
     "metadata": {},
     "output_type": "execute_result"
    }
   ],
   "source": [
    "s2=s2/2\n",
    "s2"
   ]
  },
  {
   "cell_type": "markdown",
   "id": "a959df5a",
   "metadata": {},
   "source": [
    "## Finding the labelled indices of a Series object:"
   ]
  },
  {
   "cell_type": "code",
   "execution_count": 16,
   "id": "e97bb258",
   "metadata": {},
   "outputs": [
    {
     "data": {
      "text/plain": [
       "Index(['Brazil', 'China', 'India', 'Japan', 'USA'], dtype='object')"
      ]
     },
     "execution_count": 16,
     "metadata": {},
     "output_type": "execute_result"
    }
   ],
   "source": [
    "z=x2.keys()\n",
    "z"
   ]
  },
  {
   "cell_type": "code",
   "execution_count": 18,
   "id": "792dc2d7",
   "metadata": {},
   "outputs": [
    {
     "data": {
      "text/plain": [
       "pandas.core.indexes.base.Index"
      ]
     },
     "execution_count": 18,
     "metadata": {},
     "output_type": "execute_result"
    }
   ],
   "source": [
    "type(z)"
   ]
  },
  {
   "cell_type": "code",
   "execution_count": 20,
   "id": "8bb64044",
   "metadata": {},
   "outputs": [
    {
     "name": "stdout",
     "output_type": "stream",
     "text": [
      "Brazil\n",
      "China\n",
      "India\n",
      "Japan\n",
      "USA\n"
     ]
    }
   ],
   "source": [
    "for x in z:\n",
    "    print(x)"
   ]
  },
  {
   "cell_type": "code",
   "execution_count": null,
   "id": "c6a9cd3c",
   "metadata": {},
   "outputs": [],
   "source": []
  }
 ],
 "metadata": {
  "kernelspec": {
   "display_name": "Python 3 (ipykernel)",
   "language": "python",
   "name": "python3"
  },
  "language_info": {
   "codemirror_mode": {
    "name": "ipython",
    "version": 3
   },
   "file_extension": ".py",
   "mimetype": "text/x-python",
   "name": "python",
   "nbconvert_exporter": "python",
   "pygments_lexer": "ipython3",
   "version": "3.9.12"
  }
 },
 "nbformat": 4,
 "nbformat_minor": 5
}
