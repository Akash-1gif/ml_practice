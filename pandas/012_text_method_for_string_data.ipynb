{
 "cells": [
  {
   "cell_type": "markdown",
   "id": "99bd5d6c",
   "metadata": {},
   "source": [
    "# Text methods for string data:"
   ]
  },
  {
   "cell_type": "code",
   "execution_count": 1,
   "id": "4ebf9e41",
   "metadata": {},
   "outputs": [],
   "source": [
    "import numpy as np\n",
    "import pandas as pd"
   ]
  },
  {
   "cell_type": "code",
   "execution_count": 2,
   "id": "4db8bc79",
   "metadata": {},
   "outputs": [
    {
     "data": {
      "text/html": [
       "<div>\n",
       "<style scoped>\n",
       "    .dataframe tbody tr th:only-of-type {\n",
       "        vertical-align: middle;\n",
       "    }\n",
       "\n",
       "    .dataframe tbody tr th {\n",
       "        vertical-align: top;\n",
       "    }\n",
       "\n",
       "    .dataframe thead th {\n",
       "        text-align: right;\n",
       "    }\n",
       "</style>\n",
       "<table border=\"1\" class=\"dataframe\">\n",
       "  <thead>\n",
       "    <tr style=\"text-align: right;\">\n",
       "      <th></th>\n",
       "      <th>name</th>\n",
       "      <th>score</th>\n",
       "      <th>Status</th>\n",
       "    </tr>\n",
       "  </thead>\n",
       "  <tbody>\n",
       "    <tr>\n",
       "      <th>101</th>\n",
       "      <td>Shivani</td>\n",
       "      <td>80</td>\n",
       "      <td>Distinction</td>\n",
       "    </tr>\n",
       "    <tr>\n",
       "      <th>102</th>\n",
       "      <td>Vijitha</td>\n",
       "      <td>75</td>\n",
       "      <td>First Class</td>\n",
       "    </tr>\n",
       "    <tr>\n",
       "      <th>103</th>\n",
       "      <td>Cheems</td>\n",
       "      <td>-4</td>\n",
       "      <td>Failed and Detained</td>\n",
       "    </tr>\n",
       "    <tr>\n",
       "      <th>104</th>\n",
       "      <td>Sushant</td>\n",
       "      <td>28</td>\n",
       "      <td>Fail</td>\n",
       "    </tr>\n",
       "  </tbody>\n",
       "</table>\n",
       "</div>"
      ],
      "text/plain": [
       "        name  score               Status\n",
       "101  Shivani     80          Distinction\n",
       "102  Vijitha     75          First Class\n",
       "103   Cheems     -4  Failed and Detained\n",
       "104  Sushant     28                 Fail"
      ]
     },
     "execution_count": 2,
     "metadata": {},
     "output_type": "execute_result"
    }
   ],
   "source": [
    "df=pd.DataFrame(data=[['Shivani',80,'Distinction'],['Vijitha',75,'First Class'],['Cheems',-4,\"Failed and Detained\"],[\"Sushant\",28,\"Fail\"]],columns=[\"name\",\"score\",\"Status\"],index=[101,102,103,104])\n",
    "df"
   ]
  },
  {
   "cell_type": "code",
   "execution_count": 3,
   "id": "5591b485",
   "metadata": {},
   "outputs": [
    {
     "data": {
      "text/plain": [
       "101          Bai\n",
       "102       Cheems\n",
       "103         Doge\n",
       "104         Kylo\n",
       "105    8999.7867\n",
       "106          786\n",
       "107           90\n",
       "dtype: object"
      ]
     },
     "execution_count": 3,
     "metadata": {},
     "output_type": "execute_result"
    }
   ],
   "source": [
    "ser=pd.Series({101:\"Bai\",102:\"Cheems\",103:\"Doge\",104:\"Kylo\",105:\"8999.7867\",106:786,107:\"90\"})\n",
    "ser"
   ]
  },
  {
   "cell_type": "code",
   "execution_count": 4,
   "id": "cb4c26a5",
   "metadata": {},
   "outputs": [
    {
     "data": {
      "text/plain": [
       "101          BAI\n",
       "102       CHEEMS\n",
       "103         DOGE\n",
       "104         KYLO\n",
       "105    8999.7867\n",
       "106          NaN\n",
       "107           90\n",
       "dtype: object"
      ]
     },
     "execution_count": 4,
     "metadata": {},
     "output_type": "execute_result"
    }
   ],
   "source": [
    "ser.str.upper()"
   ]
  },
  {
   "cell_type": "code",
   "execution_count": 5,
   "id": "b21a71e0",
   "metadata": {},
   "outputs": [
    {
     "data": {
      "text/plain": [
       "101    False\n",
       "102    False\n",
       "103    False\n",
       "104    False\n",
       "105    False\n",
       "106      NaN\n",
       "107     True\n",
       "dtype: object"
      ]
     },
     "execution_count": 5,
     "metadata": {},
     "output_type": "execute_result"
    }
   ],
   "source": [
    "ser.str.isdigit()"
   ]
  },
  {
   "cell_type": "code",
   "execution_count": null,
   "id": "8dc1efc8",
   "metadata": {},
   "outputs": [],
   "source": []
  }
 ],
 "metadata": {
  "kernelspec": {
   "display_name": "Python 3 (ipykernel)",
   "language": "python",
   "name": "python3"
  },
  "language_info": {
   "codemirror_mode": {
    "name": "ipython",
    "version": 3
   },
   "file_extension": ".py",
   "mimetype": "text/x-python",
   "name": "python",
   "nbconvert_exporter": "python",
   "pygments_lexer": "ipython3",
   "version": "3.9.12"
  }
 },
 "nbformat": 4,
 "nbformat_minor": 5
}
