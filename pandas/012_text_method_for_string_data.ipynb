{
 "cells": [
  {
   "cell_type": "markdown",
   "id": "99bd5d6c",
   "metadata": {},
   "source": [
    "# Text methods for string data:"
   ]
  },
  {
   "cell_type": "code",
   "execution_count": 1,
   "id": "4ebf9e41",
   "metadata": {},
   "outputs": [],
   "source": [
    "import numpy as np\n",
    "import pandas as pd"
   ]
  },
  {
   "cell_type": "code",
   "execution_count": 2,
   "id": "4db8bc79",
   "metadata": {},
   "outputs": [
    {
     "data": {
      "text/html": [
       "<div>\n",
       "<style scoped>\n",
       "    .dataframe tbody tr th:only-of-type {\n",
       "        vertical-align: middle;\n",
       "    }\n",
       "\n",
       "    .dataframe tbody tr th {\n",
       "        vertical-align: top;\n",
       "    }\n",
       "\n",
       "    .dataframe thead th {\n",
       "        text-align: right;\n",
       "    }\n",
       "</style>\n",
       "<table border=\"1\" class=\"dataframe\">\n",
       "  <thead>\n",
       "    <tr style=\"text-align: right;\">\n",
       "      <th></th>\n",
       "      <th>name</th>\n",
       "      <th>score</th>\n",
       "      <th>Status</th>\n",
       "    </tr>\n",
       "  </thead>\n",
       "  <tbody>\n",
       "    <tr>\n",
       "      <th>101</th>\n",
       "      <td>Rubina</td>\n",
       "      <td>80</td>\n",
       "      <td>Distinction</td>\n",
       "    </tr>\n",
       "    <tr>\n",
       "      <th>102</th>\n",
       "      <td>Wajid</td>\n",
       "      <td>75</td>\n",
       "      <td>First Class</td>\n",
       "    </tr>\n",
       "    <tr>\n",
       "      <th>103</th>\n",
       "      <td>Babar</td>\n",
       "      <td>-4</td>\n",
       "      <td>Failed and Detained</td>\n",
       "    </tr>\n",
       "    <tr>\n",
       "      <th>104</th>\n",
       "      <td>Rahim</td>\n",
       "      <td>28</td>\n",
       "      <td>Fail</td>\n",
       "    </tr>\n",
       "  </tbody>\n",
       "</table>\n",
       "</div>"
      ],
      "text/plain": [
       "       name  score               Status\n",
       "101  Rubina     80          Distinction\n",
       "102   Wajid     75          First Class\n",
       "103   Babar     -4  Failed and Detained\n",
       "104   Rahim     28                 Fail"
      ]
     },
     "execution_count": 2,
     "metadata": {},
     "output_type": "execute_result"
    }
   ],
   "source": [
    "df=pd.DataFrame(data=[['Rubina',80,'Distinction'],['Wajid',75,'First Class'],['Babar',-4,\"Failed and Detained\"],[\"Rahim\",28,\"Fail\"]],columns=[\"name\",\"score\",\"Status\"],index=[101,102,103,104])\n",
    "df"
   ]
  },
  {
   "cell_type": "code",
   "execution_count": 3,
   "id": "5591b485",
   "metadata": {},
   "outputs": [
    {
     "data": {
      "text/plain": [
       "101       Beacon\n",
       "102       Cheems\n",
       "103         Doge\n",
       "104         Kylo\n",
       "105    8999.7867\n",
       "106          786\n",
       "107           90\n",
       "dtype: object"
      ]
     },
     "execution_count": 3,
     "metadata": {},
     "output_type": "execute_result"
    }
   ],
   "source": [
    "ser=pd.Series({101:\"Beacon\",102:\"Cheems\",103:\"Doge\",104:\"Kylo\",105:\"8999.7867\",106:786,107:\"90\"})\n",
    "ser"
   ]
  },
  {
   "cell_type": "code",
   "execution_count": 4,
   "id": "cb4c26a5",
   "metadata": {},
   "outputs": [
    {
     "data": {
      "text/plain": [
       "101       BEACON\n",
       "102       CHEEMS\n",
       "103         DOGE\n",
       "104         KYLO\n",
       "105    8999.7867\n",
       "106          NaN\n",
       "107           90\n",
       "dtype: object"
      ]
     },
     "execution_count": 4,
     "metadata": {},
     "output_type": "execute_result"
    }
   ],
   "source": [
    "ser.str.upper()"
   ]
  },
  {
   "cell_type": "code",
   "execution_count": 5,
   "id": "b21a71e0",
   "metadata": {},
   "outputs": [
    {
     "data": {
      "text/plain": [
       "101    False\n",
       "102    False\n",
       "103    False\n",
       "104    False\n",
       "105    False\n",
       "106      NaN\n",
       "107     True\n",
       "dtype: object"
      ]
     },
     "execution_count": 5,
     "metadata": {},
     "output_type": "execute_result"
    }
   ],
   "source": [
    "ser.str.isdigit()"
   ]
  },
  {
   "cell_type": "code",
   "execution_count": 6,
   "id": "8dc1efc8",
   "metadata": {},
   "outputs": [],
   "source": [
    "tech_fin=['GOOG,APPL,AMZN','JPC,BAC,GS']\n",
    "tickers=pd.Series(tech_fin)"
   ]
  },
  {
   "cell_type": "code",
   "execution_count": 7,
   "id": "27b18602",
   "metadata": {},
   "outputs": [
    {
     "data": {
      "text/plain": [
       "0    GOOG,APPL,AMZN\n",
       "1        JPC,BAC,GS\n",
       "dtype: object"
      ]
     },
     "execution_count": 7,
     "metadata": {},
     "output_type": "execute_result"
    }
   ],
   "source": [
    "tickers"
   ]
  },
  {
   "cell_type": "markdown",
   "id": "0f0ae190",
   "metadata": {},
   "source": [
    "### Cleaning the Series data using text methods:"
   ]
  },
  {
   "cell_type": "code",
   "execution_count": 8,
   "id": "639354f8",
   "metadata": {},
   "outputs": [
    {
     "data": {
      "text/plain": [
       "0    [GOOG, APPL, AMZN]\n",
       "1        [JPC, BAC, GS]\n",
       "dtype: object"
      ]
     },
     "execution_count": 8,
     "metadata": {},
     "output_type": "execute_result"
    }
   ],
   "source": [
    "tickers=tickers.str.split(',')\n",
    "tickers"
   ]
  },
  {
   "cell_type": "code",
   "execution_count": 9,
   "id": "783b851e",
   "metadata": {},
   "outputs": [
    {
     "data": {
      "text/plain": [
       "['GOOG', 'APPL', 'AMZN']"
      ]
     },
     "execution_count": 9,
     "metadata": {},
     "output_type": "execute_result"
    }
   ],
   "source": [
    "tickers[0]"
   ]
  },
  {
   "cell_type": "code",
   "execution_count": 10,
   "id": "b43e3d10",
   "metadata": {},
   "outputs": [
    {
     "data": {
      "text/plain": [
       "0    GOOG\n",
       "1     JPC\n",
       "dtype: object"
      ]
     },
     "execution_count": 10,
     "metadata": {},
     "output_type": "execute_result"
    }
   ],
   "source": [
    "tickers.str[0]"
   ]
  },
  {
   "cell_type": "code",
   "execution_count": 13,
   "id": "54908fd7",
   "metadata": {},
   "outputs": [
    {
     "data": {
      "text/html": [
       "<div>\n",
       "<style scoped>\n",
       "    .dataframe tbody tr th:only-of-type {\n",
       "        vertical-align: middle;\n",
       "    }\n",
       "\n",
       "    .dataframe tbody tr th {\n",
       "        vertical-align: top;\n",
       "    }\n",
       "\n",
       "    .dataframe thead th {\n",
       "        text-align: right;\n",
       "    }\n",
       "</style>\n",
       "<table border=\"1\" class=\"dataframe\">\n",
       "  <thead>\n",
       "    <tr style=\"text-align: right;\">\n",
       "      <th></th>\n",
       "      <th>0</th>\n",
       "      <th>1</th>\n",
       "      <th>2</th>\n",
       "    </tr>\n",
       "  </thead>\n",
       "  <tbody>\n",
       "    <tr>\n",
       "      <th>0</th>\n",
       "      <td>GOOG</td>\n",
       "      <td>APPL</td>\n",
       "      <td>AMZN</td>\n",
       "    </tr>\n",
       "    <tr>\n",
       "      <th>1</th>\n",
       "      <td>JPC</td>\n",
       "      <td>BAC</td>\n",
       "      <td>GS</td>\n",
       "    </tr>\n",
       "  </tbody>\n",
       "</table>\n",
       "</div>"
      ],
      "text/plain": [
       "      0     1     2\n",
       "0  GOOG  APPL  AMZN\n",
       "1   JPC   BAC    GS"
      ]
     },
     "execution_count": 13,
     "metadata": {},
     "output_type": "execute_result"
    }
   ],
   "source": [
    "tickers=pd.Series(tech_fin).str.split(',',expand=True)\n",
    "tickers"
   ]
  },
  {
   "cell_type": "markdown",
   "id": "4669d1ea",
   "metadata": {},
   "source": [
    "### Cleaning the messy data:"
   ]
  },
  {
   "cell_type": "code",
   "execution_count": 14,
   "id": "f0c57ae2",
   "metadata": {},
   "outputs": [
    {
     "data": {
      "text/plain": [
       "0        and rew\n",
       "1           bo;b\n",
       "2        charlie\n",
       "3       david   \n",
       "dtype: object"
      ]
     },
     "execution_count": 14,
     "metadata": {},
     "output_type": "execute_result"
    }
   ],
   "source": [
    "messy_names=pd.Series([' and rew',' bo;b','charlie','   david   '])\n",
    "messy_names"
   ]
  },
  {
   "cell_type": "code",
   "execution_count": 15,
   "id": "60cf3d12",
   "metadata": {},
   "outputs": [
    {
     "data": {
      "text/plain": [
       "0    and rew\n",
       "1       bo;b\n",
       "2    charlie\n",
       "3      david\n",
       "dtype: object"
      ]
     },
     "execution_count": 15,
     "metadata": {},
     "output_type": "execute_result"
    }
   ],
   "source": [
    "messy_names=messy_names.str.strip()\n",
    "messy_names"
   ]
  },
  {
   "cell_type": "code",
   "execution_count": 17,
   "id": "de05b8ea",
   "metadata": {},
   "outputs": [
    {
     "data": {
      "text/plain": [
       "0     andrew\n",
       "1       bo;b\n",
       "2    charlie\n",
       "3      david\n",
       "dtype: object"
      ]
     },
     "execution_count": 17,
     "metadata": {},
     "output_type": "execute_result"
    }
   ],
   "source": [
    "messy_names=messy_names.str.replace(' ','')\n",
    "messy_names"
   ]
  },
  {
   "cell_type": "code",
   "execution_count": 18,
   "id": "da3808ee",
   "metadata": {},
   "outputs": [
    {
     "data": {
      "text/plain": [
       "0     andrew\n",
       "1        bob\n",
       "2    charlie\n",
       "3      david\n",
       "dtype: object"
      ]
     },
     "execution_count": 18,
     "metadata": {},
     "output_type": "execute_result"
    }
   ],
   "source": [
    "messy_names=messy_names.str.replace(';','')\n",
    "messy_names"
   ]
  },
  {
   "cell_type": "code",
   "execution_count": 19,
   "id": "8cee99a8",
   "metadata": {},
   "outputs": [
    {
     "data": {
      "text/plain": [
       "0     Andrew\n",
       "1        Bob\n",
       "2    Charlie\n",
       "3      David\n",
       "dtype: object"
      ]
     },
     "execution_count": 19,
     "metadata": {},
     "output_type": "execute_result"
    }
   ],
   "source": [
    "messy_names=messy_names.str.capitalize()\n",
    "messy_names"
   ]
  }
 ],
 "metadata": {
  "kernelspec": {
   "display_name": "Python 3 (ipykernel)",
   "language": "python",
   "name": "python3"
  },
  "language_info": {
   "codemirror_mode": {
    "name": "ipython",
    "version": 3
   },
   "file_extension": ".py",
   "mimetype": "text/x-python",
   "name": "python",
   "nbconvert_exporter": "python",
   "pygments_lexer": "ipython3",
   "version": "3.9.12"
  }
 },
 "nbformat": 4,
 "nbformat_minor": 5
}
