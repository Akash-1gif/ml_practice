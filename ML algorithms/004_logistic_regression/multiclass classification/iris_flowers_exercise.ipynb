{
 "cells": [
  {
   "cell_type": "markdown",
   "id": "0d320f54",
   "metadata": {},
   "source": [
    "# Iris flower classification:"
   ]
  },
  {
   "cell_type": "code",
   "execution_count": 1,
   "id": "f88774cc",
   "metadata": {},
   "outputs": [],
   "source": [
    "import numpy as np \n",
    "import pandas as pd\n",
    "import matplotlib.pyplot as plt\n",
    "%matplotlib inline \n",
    "plt.style.use('dark_background')\n",
    "from sklearn.linear_model import LogisticRegression\n",
    "from sklearn.model_selection import train_test_split\n",
    "from sklearn.datasets import load_iris\n",
    "from sklearn.metrics import confusion_matrix as CM\n",
    "import seaborn as sns"
   ]
  },
  {
   "cell_type": "markdown",
   "id": "b7cacb1e",
   "metadata": {},
   "source": [
    "## Extracting data:"
   ]
  },
  {
   "cell_type": "code",
   "execution_count": 2,
   "id": "7acafb77",
   "metadata": {},
   "outputs": [],
   "source": [
    "iris_data=load_iris()"
   ]
  },
  {
   "cell_type": "code",
   "execution_count": 3,
   "id": "c53b34cf",
   "metadata": {},
   "outputs": [
    {
     "data": {
      "text/plain": [
       "['DESCR',\n",
       " 'data',\n",
       " 'data_module',\n",
       " 'feature_names',\n",
       " 'filename',\n",
       " 'frame',\n",
       " 'target',\n",
       " 'target_names']"
      ]
     },
     "execution_count": 3,
     "metadata": {},
     "output_type": "execute_result"
    }
   ],
   "source": [
    "dir(iris_data)"
   ]
  },
  {
   "cell_type": "code",
   "execution_count": 4,
   "id": "f5d0b63a",
   "metadata": {
    "scrolled": true
   },
   "outputs": [
    {
     "data": {
      "text/plain": [
       "array([5.1, 3.5, 1.4, 0.2])"
      ]
     },
     "execution_count": 4,
     "metadata": {},
     "output_type": "execute_result"
    }
   ],
   "source": [
    "iris_data.data[0]"
   ]
  },
  {
   "cell_type": "code",
   "execution_count": 5,
   "id": "6e3a5ca5",
   "metadata": {},
   "outputs": [
    {
     "data": {
      "text/plain": [
       "0"
      ]
     },
     "execution_count": 5,
     "metadata": {},
     "output_type": "execute_result"
    }
   ],
   "source": [
    "iris_data.target[0]"
   ]
  },
  {
   "cell_type": "code",
   "execution_count": 6,
   "id": "81ece90b",
   "metadata": {},
   "outputs": [
    {
     "data": {
      "text/plain": [
       "1"
      ]
     },
     "execution_count": 6,
     "metadata": {},
     "output_type": "execute_result"
    }
   ],
   "source": [
    "iris_data.target[67]"
   ]
  },
  {
   "cell_type": "code",
   "execution_count": 7,
   "id": "53d820af",
   "metadata": {},
   "outputs": [],
   "source": [
    "x_train,x_test,y_train,y_test=train_test_split(iris_data.data,iris_data.target)"
   ]
  },
  {
   "cell_type": "code",
   "execution_count": 8,
   "id": "93817595",
   "metadata": {},
   "outputs": [
    {
     "data": {
      "text/plain": [
       "array([[6.7, 3. , 5. , 1.7],\n",
       "       [6. , 2.2, 4. , 1. ],\n",
       "       [6.3, 3.4, 5.6, 2.4],\n",
       "       [7.2, 3. , 5.8, 1.6],\n",
       "       [6.9, 3.1, 4.9, 1.5],\n",
       "       [5. , 2. , 3.5, 1. ],\n",
       "       [6.2, 2.9, 4.3, 1.3],\n",
       "       [4.4, 2.9, 1.4, 0.2],\n",
       "       [5.7, 4.4, 1.5, 0.4],\n",
       "       [5.2, 2.7, 3.9, 1.4],\n",
       "       [5. , 3.2, 1.2, 0.2],\n",
       "       [4.6, 3.4, 1.4, 0.3],\n",
       "       [5.6, 2.7, 4.2, 1.3],\n",
       "       [5.8, 2.7, 5.1, 1.9],\n",
       "       [6.8, 2.8, 4.8, 1.4],\n",
       "       [6.5, 3. , 5.2, 2. ],\n",
       "       [7.4, 2.8, 6.1, 1.9],\n",
       "       [5.9, 3.2, 4.8, 1.8],\n",
       "       [5.8, 4. , 1.2, 0.2],\n",
       "       [4.6, 3.6, 1. , 0.2],\n",
       "       [6.4, 3.1, 5.5, 1.8],\n",
       "       [5.5, 2.5, 4. , 1.3],\n",
       "       [6.8, 3.2, 5.9, 2.3],\n",
       "       [6.5, 3.2, 5.1, 2. ],\n",
       "       [6.7, 3.1, 4.7, 1.5],\n",
       "       [4.7, 3.2, 1.6, 0.2],\n",
       "       [6.8, 3. , 5.5, 2.1],\n",
       "       [6.2, 3.4, 5.4, 2.3],\n",
       "       [5.5, 2.6, 4.4, 1.2],\n",
       "       [4.9, 3. , 1.4, 0.2],\n",
       "       [4.8, 3. , 1.4, 0.1],\n",
       "       [5.8, 2.8, 5.1, 2.4],\n",
       "       [6.9, 3.1, 5.1, 2.3],\n",
       "       [6.1, 3. , 4.6, 1.4],\n",
       "       [4.6, 3.2, 1.4, 0.2],\n",
       "       [5.5, 2.3, 4. , 1.3],\n",
       "       [6.7, 3.1, 4.4, 1.4],\n",
       "       [6.9, 3.1, 5.4, 2.1],\n",
       "       [5. , 3.4, 1.6, 0.4],\n",
       "       [5.1, 3.3, 1.7, 0.5],\n",
       "       [5.1, 3.8, 1.5, 0.3],\n",
       "       [5. , 3.6, 1.4, 0.2],\n",
       "       [5.9, 3. , 5.1, 1.8],\n",
       "       [6.1, 2.8, 4. , 1.3],\n",
       "       [5.8, 2.7, 5.1, 1.9],\n",
       "       [5.6, 3. , 4.1, 1.3],\n",
       "       [6.4, 2.8, 5.6, 2.1],\n",
       "       [5.6, 2.5, 3.9, 1.1],\n",
       "       [5.1, 3.8, 1.9, 0.4],\n",
       "       [5. , 3.4, 1.5, 0.2],\n",
       "       [5.7, 2.5, 5. , 2. ],\n",
       "       [6.3, 2.9, 5.6, 1.8],\n",
       "       [6.4, 3.2, 4.5, 1.5],\n",
       "       [7.7, 3.8, 6.7, 2.2],\n",
       "       [6.3, 3.3, 6. , 2.5],\n",
       "       [4.8, 3.4, 1.9, 0.2],\n",
       "       [5.1, 2.5, 3. , 1.1],\n",
       "       [6.1, 2.9, 4.7, 1.4],\n",
       "       [5.7, 2.6, 3.5, 1. ],\n",
       "       [6.4, 2.9, 4.3, 1.3],\n",
       "       [5.6, 2.9, 3.6, 1.3],\n",
       "       [4.9, 3.1, 1.5, 0.2],\n",
       "       [5.5, 3.5, 1.3, 0.2],\n",
       "       [6.9, 3.2, 5.7, 2.3],\n",
       "       [6.2, 2.2, 4.5, 1.5],\n",
       "       [5.5, 2.4, 3.8, 1.1],\n",
       "       [6.3, 2.7, 4.9, 1.8],\n",
       "       [6.4, 2.7, 5.3, 1.9],\n",
       "       [6. , 2.9, 4.5, 1.5],\n",
       "       [5.7, 3.8, 1.7, 0.3],\n",
       "       [5.4, 3.4, 1.7, 0.2],\n",
       "       [5.5, 2.4, 3.7, 1. ],\n",
       "       [6. , 3.4, 4.5, 1.6],\n",
       "       [4.9, 2.4, 3.3, 1. ],\n",
       "       [7.2, 3.6, 6.1, 2.5],\n",
       "       [6. , 3. , 4.8, 1.8],\n",
       "       [4.4, 3. , 1.3, 0.2],\n",
       "       [7.7, 3. , 6.1, 2.3],\n",
       "       [7.2, 3.2, 6. , 1.8],\n",
       "       [6.3, 2.5, 5. , 1.9],\n",
       "       [5.4, 3.9, 1.7, 0.4],\n",
       "       [6.7, 3.3, 5.7, 2.1],\n",
       "       [6.6, 2.9, 4.6, 1.3],\n",
       "       [6.4, 2.8, 5.6, 2.2],\n",
       "       [7. , 3.2, 4.7, 1.4],\n",
       "       [4.5, 2.3, 1.3, 0.3],\n",
       "       [5.8, 2.7, 3.9, 1.2],\n",
       "       [4.4, 3.2, 1.3, 0.2],\n",
       "       [6.3, 3.3, 4.7, 1.6],\n",
       "       [5.4, 3.4, 1.5, 0.4],\n",
       "       [5. , 2.3, 3.3, 1. ],\n",
       "       [5. , 3.5, 1.3, 0.3],\n",
       "       [5.1, 3.5, 1.4, 0.3],\n",
       "       [6.2, 2.8, 4.8, 1.8],\n",
       "       [5.2, 3.5, 1.5, 0.2],\n",
       "       [5.6, 2.8, 4.9, 2. ],\n",
       "       [6.7, 3.1, 5.6, 2.4],\n",
       "       [7.6, 3. , 6.6, 2.1],\n",
       "       [5.4, 3.9, 1.3, 0.4],\n",
       "       [5.8, 2.6, 4. , 1.2],\n",
       "       [6.1, 2.8, 4.7, 1.2],\n",
       "       [5. , 3.3, 1.4, 0.2],\n",
       "       [6.3, 2.3, 4.4, 1.3],\n",
       "       [6.4, 3.2, 5.3, 2.3],\n",
       "       [6.5, 2.8, 4.6, 1.5],\n",
       "       [6.7, 3. , 5.2, 2.3],\n",
       "       [5.7, 3. , 4.2, 1.2],\n",
       "       [6.1, 3. , 4.9, 1.8],\n",
       "       [7.7, 2.6, 6.9, 2.3],\n",
       "       [4.9, 2.5, 4.5, 1.7],\n",
       "       [5.7, 2.8, 4.5, 1.3],\n",
       "       [6. , 2.2, 5. , 1.5]])"
      ]
     },
     "execution_count": 8,
     "metadata": {},
     "output_type": "execute_result"
    }
   ],
   "source": [
    "x_train"
   ]
  },
  {
   "cell_type": "code",
   "execution_count": 9,
   "id": "b4da768d",
   "metadata": {},
   "outputs": [
    {
     "data": {
      "text/plain": [
       "array([1, 1, 2, 2, 1, 1, 1, 0, 0, 1, 0, 0, 1, 2, 1, 2, 2, 1, 0, 0, 2, 1,\n",
       "       2, 2, 1, 0, 2, 2, 1, 0, 0, 2, 2, 1, 0, 1, 1, 2, 0, 0, 0, 0, 2, 1,\n",
       "       2, 1, 2, 1, 0, 0, 2, 2, 1, 2, 2, 0, 1, 1, 1, 1, 1, 0, 0, 2, 1, 1,\n",
       "       2, 2, 1, 0, 0, 1, 1, 1, 2, 2, 0, 2, 2, 2, 0, 2, 1, 2, 1, 0, 1, 0,\n",
       "       1, 0, 1, 0, 0, 2, 0, 2, 2, 2, 0, 1, 1, 0, 1, 2, 1, 2, 1, 2, 2, 2,\n",
       "       1, 2])"
      ]
     },
     "execution_count": 9,
     "metadata": {},
     "output_type": "execute_result"
    }
   ],
   "source": [
    "y_train"
   ]
  },
  {
   "cell_type": "code",
   "execution_count": 10,
   "id": "f31ec579",
   "metadata": {},
   "outputs": [],
   "source": [
    "model=LogisticRegression()"
   ]
  },
  {
   "cell_type": "code",
   "execution_count": 11,
   "id": "4280f188",
   "metadata": {},
   "outputs": [
    {
     "data": {
      "text/plain": [
       "LogisticRegression()"
      ]
     },
     "execution_count": 11,
     "metadata": {},
     "output_type": "execute_result"
    }
   ],
   "source": [
    "model.fit(x_train,y_train)"
   ]
  },
  {
   "cell_type": "code",
   "execution_count": 12,
   "id": "c75d2e30",
   "metadata": {},
   "outputs": [
    {
     "data": {
      "text/plain": [
       "0.9736842105263158"
      ]
     },
     "execution_count": 12,
     "metadata": {},
     "output_type": "execute_result"
    }
   ],
   "source": [
    "model.score(x_test,y_test)"
   ]
  },
  {
   "cell_type": "markdown",
   "id": "0dc48f9b",
   "metadata": {},
   "source": [
    "### Generating confusion matrix:"
   ]
  },
  {
   "cell_type": "code",
   "execution_count": 13,
   "id": "a0b3dc30",
   "metadata": {},
   "outputs": [
    {
     "data": {
      "text/plain": [
       "array([2, 0, 2, 1, 1, 0, 0, 2, 2, 1, 2, 2, 0, 0, 0, 0, 0, 0, 2, 0, 0, 1,\n",
       "       1, 0, 0, 2, 2, 1, 0, 2, 0, 0, 1, 2, 1, 0, 0, 0])"
      ]
     },
     "execution_count": 13,
     "metadata": {},
     "output_type": "execute_result"
    }
   ],
   "source": [
    "y_pred=model.predict(x_test)\n",
    "y_pred"
   ]
  },
  {
   "cell_type": "code",
   "execution_count": 14,
   "id": "a80b6fbc",
   "metadata": {},
   "outputs": [
    {
     "data": {
      "text/plain": [
       "array([[19,  0,  0],\n",
       "       [ 0,  8,  1],\n",
       "       [ 0,  0, 10]], dtype=int64)"
      ]
     },
     "execution_count": 14,
     "metadata": {},
     "output_type": "execute_result"
    }
   ],
   "source": [
    "cm=CM(y_test,y_pred)\n",
    "cm"
   ]
  },
  {
   "cell_type": "code",
   "execution_count": 15,
   "id": "194b6c5f",
   "metadata": {},
   "outputs": [
    {
     "data": {
      "text/plain": [
       "Text(69.0, 0.5, 'Truth')"
      ]
     },
     "execution_count": 15,
     "metadata": {},
     "output_type": "execute_result"
    },
    {
     "data": {
      "image/png": "[encoded data removed]",
      "text/plain": [
       "<Figure size 720x504 with 2 Axes>"
      ]
     },
     "metadata": {},
     "output_type": "display_data"
    }
   ],
   "source": [
    "plt.figure(figsize=(10,7))\n",
    "sns.heatmap(cm,annot=True)\n",
    "plt.xlabel('Predicted')\n",
    "plt.ylabel('Truth')"
   ]
  }
 ],
 "metadata": {
  "kernelspec": {
   "display_name": "Python 3 (ipykernel)",
   "language": "python",
   "name": "python3"
  },
  "language_info": {
   "codemirror_mode": {
    "name": "ipython",
    "version": 3
   },
   "file_extension": ".py",
   "mimetype": "text/x-python",
   "name": "python",
   "nbconvert_exporter": "python",
   "pygments_lexer": "ipython3",
   "version": "3.9.12"
  }
 },
 "nbformat": 4,
 "nbformat_minor": 5
}
