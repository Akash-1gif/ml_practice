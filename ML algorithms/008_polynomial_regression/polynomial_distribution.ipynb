{
 "cells": [
  {
   "cell_type": "markdown",
   "id": "bce7df66",
   "metadata": {},
   "source": [
    "# Polynomial Regression:"
   ]
  },
  {
   "cell_type": "markdown",
   "id": "cc2267eb",
   "metadata": {},
   "source": [
    "## Import Libraries:"
   ]
  },
  {
   "cell_type": "code",
   "execution_count": 2,
   "id": "3eaeea2f",
   "metadata": {},
   "outputs": [],
   "source": [
    "import numpy as np\n",
    "import pandas as pd\n",
    "from sklearn.linear_model import LinearRegression\n",
    "from sklearn.preprocessing import PolynomialFeatures\n",
    "import matplotlib.pyplot as plt\n",
    "%matplotlib inline\n",
    "plt.style.use('dark_background')"
   ]
  },
  {
   "cell_type": "markdown",
   "id": "ba2531b6",
   "metadata": {},
   "source": [
    "## Data Generation:"
   ]
  },
  {
   "cell_type": "code",
   "execution_count": 3,
   "id": "d243b9d3",
   "metadata": {},
   "outputs": [
    {
     "data": {
      "text/plain": [
       "array([[ 0.00724709],\n",
       "       [ 1.11974228],\n",
       "       [ 0.00771145],\n",
       "       [ 1.18213075],\n",
       "       [-1.16682226],\n",
       "       [ 1.8150429 ],\n",
       "       [ 1.27599908],\n",
       "       [-0.37969873],\n",
       "       [ 1.20705528],\n",
       "       [-0.73842072],\n",
       "       [ 1.55623362],\n",
       "       [-0.9710038 ],\n",
       "       [-0.18009448],\n",
       "       [ 0.05365007],\n",
       "       [-1.78129662],\n",
       "       [ 0.63327083],\n",
       "       [-1.77281837],\n",
       "       [ 0.07572416],\n",
       "       [-1.57401211],\n",
       "       [ 1.83734893],\n",
       "       [ 1.73710398],\n",
       "       [ 0.29560171],\n",
       "       [ 0.12509965],\n",
       "       [ 1.63582814],\n",
       "       [-1.67699603],\n",
       "       [-0.98955882],\n",
       "       [ 0.28472532],\n",
       "       [ 1.86058222],\n",
       "       [ 0.63094948],\n",
       "       [ 1.72720694],\n",
       "       [-0.25373761],\n",
       "       [ 1.85687008],\n",
       "       [ 0.45121335],\n",
       "       [ 1.03837497],\n",
       "       [ 1.17651941],\n",
       "       [-1.17707686],\n",
       "       [-1.85756953],\n",
       "       [ 0.70859445],\n",
       "       [ 0.23379197],\n",
       "       [ 1.74923283],\n",
       "       [-1.53341778],\n",
       "       [-0.52465359],\n",
       "       [ 1.05460487],\n",
       "       [-0.80805624],\n",
       "       [-0.6208164 ],\n",
       "       [ 1.27225003],\n",
       "       [-0.43356799],\n",
       "       [-1.41250455],\n",
       "       [ 0.24109819],\n",
       "       [ 0.4611505 ],\n",
       "       [ 1.92286782],\n",
       "       [ 1.01162667],\n",
       "       [ 0.32893099],\n",
       "       [-1.81587858],\n",
       "       [-1.09613376],\n",
       "       [ 0.34168376],\n",
       "       [ 1.58161817],\n",
       "       [-1.37184723],\n",
       "       [-1.85301881],\n",
       "       [ 0.79923705],\n",
       "       [-1.84048191],\n",
       "       [-1.15444891],\n",
       "       [-1.38735172],\n",
       "       [-1.24331361],\n",
       "       [ 1.27202598],\n",
       "       [-0.63156099],\n",
       "       [ 1.12176037],\n",
       "       [-1.12632162],\n",
       "       [ 0.01539988],\n",
       "       [-1.81584356],\n",
       "       [-1.20448107],\n",
       "       [ 0.54272441],\n",
       "       [-1.65032247],\n",
       "       [-0.40878903],\n",
       "       [ 0.78666017],\n",
       "       [ 0.20581701],\n",
       "       [ 0.89596547],\n",
       "       [ 0.4869233 ],\n",
       "       [ 0.44419247],\n",
       "       [-0.46376745],\n",
       "       [ 1.17905395],\n",
       "       [ 0.22521931],\n",
       "       [ 1.29757816],\n",
       "       [-0.62451467],\n",
       "       [-0.1761417 ],\n",
       "       [-0.68019706],\n",
       "       [-0.0171996 ],\n",
       "       [-1.18030493],\n",
       "       [ 1.33659256],\n",
       "       [-1.12640303],\n",
       "       [ 1.05308757],\n",
       "       [ 1.66545771],\n",
       "       [ 1.38423221],\n",
       "       [ 0.7696179 ],\n",
       "       [ 0.78046497],\n",
       "       [-0.42898332],\n",
       "       [ 1.37499212],\n",
       "       [-1.90066122],\n",
       "       [-0.20441957],\n",
       "       [ 0.15307207]])"
      ]
     },
     "execution_count": 3,
     "metadata": {},
     "output_type": "execute_result"
    }
   ],
   "source": [
    "x=4*np.random.rand(100,1)-2\n",
    "x"
   ]
  },
  {
   "cell_type": "code",
   "execution_count": 5,
   "id": "308e3f05",
   "metadata": {},
   "outputs": [
    {
     "data": {
      "text/plain": [
       "array([[ 4.09484417],\n",
       "       [12.09118203],\n",
       "       [ 5.28997765],\n",
       "       [10.180135  ],\n",
       "       [ 7.96568076],\n",
       "       [25.65434426],\n",
       "       [14.56744045],\n",
       "       [ 2.29274491],\n",
       "       [14.51972273],\n",
       "       [ 3.15344015],\n",
       "       [19.43730893],\n",
       "       [ 9.07544488],\n",
       "       [ 2.02461946],\n",
       "       [ 2.38382011],\n",
       "       [16.25236836],\n",
       "       [ 7.06200002],\n",
       "       [15.74648551],\n",
       "       [ 5.59692782],\n",
       "       [13.5335426 ],\n",
       "       [25.21439697],\n",
       "       [20.4064061 ],\n",
       "       [ 4.97930245],\n",
       "       [ 4.10163392],\n",
       "       [19.93498831],\n",
       "       [14.14555116],\n",
       "       [ 7.14294771],\n",
       "       [ 5.19369077],\n",
       "       [24.47963918],\n",
       "       [ 5.17369866],\n",
       "       [21.55562825],\n",
       "       [ 3.1272752 ],\n",
       "       [25.3244075 ],\n",
       "       [ 6.35396357],\n",
       "       [12.27733225],\n",
       "       [14.41611461],\n",
       "       [ 8.40975056],\n",
       "       [17.13551824],\n",
       "       [ 8.87059509],\n",
       "       [ 3.63947699],\n",
       "       [22.15296332],\n",
       "       [12.23362506],\n",
       "       [ 3.95121019],\n",
       "       [14.30621498],\n",
       "       [ 7.38557066],\n",
       "       [ 4.35366084],\n",
       "       [15.87600344],\n",
       "       [ 5.00746386],\n",
       "       [10.75797001],\n",
       "       [ 4.86319481],\n",
       "       [ 6.12680579],\n",
       "       [24.86041584],\n",
       "       [12.11189938],\n",
       "       [ 7.42637827],\n",
       "       [16.54267283],\n",
       "       [ 7.61671512],\n",
       "       [ 5.21054808],\n",
       "       [20.12368961],\n",
       "       [12.64255884],\n",
       "       [17.49378509],\n",
       "       [ 9.88879979],\n",
       "       [16.95857014],\n",
       "       [ 8.7535518 ],\n",
       "       [ 9.46696693],\n",
       "       [12.03004102],\n",
       "       [14.58761726],\n",
       "       [ 5.09945809],\n",
       "       [13.32211031],\n",
       "       [ 9.9025283 ],\n",
       "       [ 2.73646157],\n",
       "       [17.86484483],\n",
       "       [ 8.74194864],\n",
       "       [ 5.05474003],\n",
       "       [14.7974983 ],\n",
       "       [ 4.41746742],\n",
       "       [ 9.0944487 ],\n",
       "       [ 5.95967144],\n",
       "       [ 8.50029344],\n",
       "       [ 6.14458411],\n",
       "       [ 5.6144461 ],\n",
       "       [ 4.00216215],\n",
       "       [11.38960144],\n",
       "       [ 5.11290994],\n",
       "       [16.05291242],\n",
       "       [ 4.07825278],\n",
       "       [ 3.5984592 ],\n",
       "       [ 5.23658291],\n",
       "       [ 6.34727427],\n",
       "       [ 8.29098901],\n",
       "       [16.24180831],\n",
       "       [ 9.73485052],\n",
       "       [10.61774017],\n",
       "       [20.6487964 ],\n",
       "       [15.75271035],\n",
       "       [ 8.12575118],\n",
       "       [ 8.03986775],\n",
       "       [ 4.5303912 ],\n",
       "       [14.88883644],\n",
       "       [16.83295829],\n",
       "       [ 1.91606303],\n",
       "       [ 4.78839021]])"
      ]
     },
     "execution_count": 5,
     "metadata": {},
     "output_type": "execute_result"
    }
   ],
   "source": [
    "y=(2*x)+4+(5*(x**2))+(np.random.randn(100,1)) #----> noise\n",
    "y"
   ]
  },
  {
   "cell_type": "markdown",
   "id": "75ba718e",
   "metadata": {},
   "source": [
    "## Displaying Data distribution:"
   ]
  },
  {
   "cell_type": "code",
   "execution_count": 8,
   "id": "b19acfe1",
   "metadata": {
    "scrolled": true
   },
   "outputs": [
    {
     "data": {
      "image/png": "[encoded data removed]",
      "text/plain": [
       "<Figure size 432x288 with 1 Axes>"
      ]
     },
     "metadata": {},
     "output_type": "display_data"
    }
   ],
   "source": [
    "plt.scatter(x,y)\n",
    "plt.show()"
   ]
  },
  {
   "cell_type": "markdown",
   "id": "f9ace3ad",
   "metadata": {},
   "source": [
    "## Trying to plot linear regression line for the following data distribution:"
   ]
  },
  {
   "cell_type": "code",
   "execution_count": 9,
   "id": "56b2be3a",
   "metadata": {},
   "outputs": [
    {
     "data": {
      "text/plain": [
       "LinearRegression()"
      ]
     },
     "execution_count": 9,
     "metadata": {},
     "output_type": "execute_result"
    }
   ],
   "source": [
    "reg=LinearRegression()\n",
    "reg.fit(x,y)"
   ]
  },
  {
   "cell_type": "code",
   "execution_count": 10,
   "id": "3ae2fc3e",
   "metadata": {},
   "outputs": [],
   "source": [
    "x_vals=np.linspace(-2,2,100).reshape(-1,1)\n",
    "y_vals=reg.predict(x_vals)"
   ]
  },
  {
   "cell_type": "code",
   "execution_count": 12,
   "id": "adae83c7",
   "metadata": {},
   "outputs": [
    {
     "data": {
      "image/png": "[encoded data removed]",
      "text/plain": [
       "<Figure size 432x288 with 1 Axes>"
      ]
     },
     "metadata": {},
     "output_type": "display_data"
    }
   ],
   "source": [
    "plt.scatter(x,y)\n",
    "plt.plot(x_vals,y_vals,color=\"orange\")\n",
    "plt.show()"
   ]
  },
  {
   "cell_type": "markdown",
   "id": "4a34647c",
   "metadata": {},
   "source": [
    "## Trying to plot polynomial regression curve for the following data distribution:"
   ]
  },
  {
   "cell_type": "code",
   "execution_count": 13,
   "id": "6812e0bc",
   "metadata": {},
   "outputs": [
    {
     "data": {
      "text/plain": [
       "LinearRegression()"
      ]
     },
     "execution_count": 13,
     "metadata": {},
     "output_type": "execute_result"
    }
   ],
   "source": [
    "poly_features=PolynomialFeatures(degree=2,include_bias=False)\n",
    "x_poly=poly_features.fit_transform(x)\n",
    "reg.fit(x_poly,y)"
   ]
  },
  {
   "cell_type": "code",
   "execution_count": 14,
   "id": "2c030ff1",
   "metadata": {},
   "outputs": [],
   "source": [
    "x_vals_poly=poly_features.transform(x_vals)\n",
    "y_vals=reg.predict(x_vals_poly)"
   ]
  },
  {
   "cell_type": "code",
   "execution_count": 15,
   "id": "9fa03e9b",
   "metadata": {},
   "outputs": [
    {
     "data": {
      "image/png": "[encoded data removed]",
      "text/plain": [
       "<Figure size 432x288 with 1 Axes>"
      ]
     },
     "metadata": {},
     "output_type": "display_data"
    }
   ],
   "source": [
    "plt.scatter(x,y)\n",
    "plt.plot(x_vals,y_vals,color=\"orange\")\n",
    "plt.show()"
   ]
  }
 ],
 "metadata": {
  "kernelspec": {
   "display_name": "Python 3 (ipykernel)",
   "language": "python",
   "name": "python3"
  },
  "language_info": {
   "codemirror_mode": {
    "name": "ipython",
    "version": 3
   },
   "file_extension": ".py",
   "mimetype": "text/x-python",
   "name": "python",
   "nbconvert_exporter": "python",
   "pygments_lexer": "ipython3",
   "version": "3.9.12"
  }
 },
 "nbformat": 4,
 "nbformat_minor": 5
}
