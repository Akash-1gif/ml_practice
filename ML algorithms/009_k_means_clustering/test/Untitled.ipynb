{
 "cells": [
  {
   "cell_type": "markdown",
   "id": "5880d83e-a9ee-44ba-a096-a2690248c74f",
   "metadata": {},
   "source": [
    "# Applying KNN Clustering algorithm on Iris dataset:"
   ]
  },
  {
   "cell_type": "markdown",
   "id": "ce29bab1-8dc6-4aa5-b5ad-9c1de3335cb9",
   "metadata": {},
   "source": [
    "### Importing libraries:"
   ]
  },
  {
   "cell_type": "code",
   "execution_count": null,
   "id": "fed45ec1-e10d-443a-9211-dec0c26ff130",
   "metadata": {},
   "outputs": [],
   "source": [
    "import numpy as np\n",
    "import pandas as pd\n",
    "import matplotlib.pyplot as plt\n",
    "b "
   ]
  }
 ],
 "metadata": {
  "kernelspec": {
   "display_name": "Python 3 (ipykernel)",
   "language": "python",
   "name": "python3"
  },
  "language_info": {
   "codemirror_mode": {
    "name": "ipython",
    "version": 3
   },
   "file_extension": ".py",
   "mimetype": "text/x-python",
   "name": "python",
   "nbconvert_exporter": "python",
   "pygments_lexer": "ipython3",
   "version": "3.10.0"
  }
 },
 "nbformat": 4,
 "nbformat_minor": 5
}
