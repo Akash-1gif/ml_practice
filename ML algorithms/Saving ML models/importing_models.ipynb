{
 "cells": [
  {
   "cell_type": "markdown",
   "id": "a0a999c1",
   "metadata": {},
   "source": [
    "# Importing ML models:"
   ]
  },
  {
   "cell_type": "code",
   "execution_count": 1,
   "id": "66d6d167",
   "metadata": {},
   "outputs": [],
   "source": [
    "import pickle \n",
    "import numpy as np\n",
    "import pandas as pd\n",
    "import matplotlib.pyplot as plt\n",
    "%matplotlib inline\n",
    "plt.style.use('dark_background')\n",
    "from sklearn import linear_model\n",
    "from word2number import w2n\n",
    "import joblib"
   ]
  },
  {
   "cell_type": "markdown",
   "id": "829d7737",
   "metadata": {},
   "source": [
    "## Importing the ML module using pickle:"
   ]
  },
  {
   "cell_type": "code",
   "execution_count": 2,
   "id": "3cdc0ecd",
   "metadata": {},
   "outputs": [],
   "source": [
    "import pickletools\n",
    "\n",
    "with open('hiring', 'rb') as f:\n",
    "    data = pickle.load(f)"
   ]
  },
  {
   "cell_type": "code",
   "execution_count": 3,
   "id": "6b7defaa",
   "metadata": {},
   "outputs": [
    {
     "name": "stderr",
     "output_type": "stream",
     "text": [
      "C:\\Users\\MYPC\\anaconda3\\lib\\site-packages\\sklearn\\base.py:450: UserWarning: X does not have valid feature names, but LinearRegression was fitted with feature names\n",
      "  warnings.warn(\n"
     ]
    },
    {
     "data": {
      "text/plain": [
       "array([53205.96797671, 92002.18340611])"
      ]
     },
     "execution_count": 3,
     "metadata": {},
     "output_type": "execute_result"
    }
   ],
   "source": [
    "data.predict([[2,9,6],[12,10,10]])"
   ]
  },
  {
   "cell_type": "code",
   "execution_count": 4,
   "id": "8b9c00da",
   "metadata": {},
   "outputs": [],
   "source": [
    "reg=joblib.load('hiring1.pkl')"
   ]
  },
  {
   "cell_type": "code",
   "execution_count": 5,
   "id": "b96df4ff",
   "metadata": {},
   "outputs": [
    {
     "name": "stderr",
     "output_type": "stream",
     "text": [
      "C:\\Users\\MYPC\\anaconda3\\lib\\site-packages\\sklearn\\base.py:450: UserWarning: X does not have valid feature names, but LinearRegression was fitted with feature names\n",
      "  warnings.warn(\n"
     ]
    },
    {
     "data": {
      "text/plain": [
       "array([53205.96797671, 92002.18340611])"
      ]
     },
     "execution_count": 5,
     "metadata": {},
     "output_type": "execute_result"
    }
   ],
   "source": [
    "reg.predict([[2,9,6],[12,10,10]])"
   ]
  }
 ],
 "metadata": {
  "kernelspec": {
   "display_name": "Python 3 (ipykernel)",
   "language": "python",
   "name": "python3"
  },
  "language_info": {
   "codemirror_mode": {
    "name": "ipython",
    "version": 3
   },
   "file_extension": ".py",
   "mimetype": "text/x-python",
   "name": "python",
   "nbconvert_exporter": "python",
   "pygments_lexer": "ipython3",
   "version": "3.9.12"
  }
 },
 "nbformat": 4,
 "nbformat_minor": 5
}
