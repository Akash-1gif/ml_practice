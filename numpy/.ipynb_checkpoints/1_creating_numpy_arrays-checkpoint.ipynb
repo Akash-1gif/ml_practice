{
 "cells": [
  {
   "cell_type": "markdown",
   "id": "c8f608b5",
   "metadata": {},
   "source": [
    "# Creating Numpy arrays"
   ]
  },
  {
   "cell_type": "code",
   "execution_count": 1,
   "id": "4b477ab8",
   "metadata": {},
   "outputs": [],
   "source": [
    "import numpy as np"
   ]
  },
  {
   "cell_type": "markdown",
   "id": "ab5e7f8c",
   "metadata": {},
   "source": [
    "## By transforming standard lists into NumPy array:"
   ]
  },
  {
   "cell_type": "markdown",
   "id": "6a9ce096",
   "metadata": {},
   "source": [
    "### For 1D arrays"
   ]
  },
  {
   "cell_type": "code",
   "execution_count": 2,
   "id": "940811db",
   "metadata": {},
   "outputs": [
    {
     "data": {
      "text/plain": [
       "list"
      ]
     },
     "execution_count": 2,
     "metadata": {},
     "output_type": "execute_result"
    }
   ],
   "source": [
    "l1=[1,2,3,4,5,6]\n",
    "type(l1)"
   ]
  },
  {
   "cell_type": "code",
   "execution_count": 3,
   "id": "542d28e6",
   "metadata": {},
   "outputs": [
    {
     "data": {
      "text/plain": [
       "array([1, 2, 3, 4, 5, 6])"
      ]
     },
     "execution_count": 3,
     "metadata": {},
     "output_type": "execute_result"
    }
   ],
   "source": [
    "l1=np.array(l1)\n",
    "l1"
   ]
  },
  {
   "cell_type": "code",
   "execution_count": 4,
   "id": "9b008039",
   "metadata": {},
   "outputs": [
    {
     "data": {
      "text/plain": [
       "numpy.ndarray"
      ]
     },
     "execution_count": 4,
     "metadata": {},
     "output_type": "execute_result"
    }
   ],
   "source": [
    "type(l1)"
   ]
  },
  {
   "cell_type": "markdown",
   "id": "46b499cd",
   "metadata": {},
   "source": [
    "### For 2D arrays"
   ]
  },
  {
   "cell_type": "code",
   "execution_count": 5,
   "id": "82bebd3e",
   "metadata": {
    "scrolled": true
   },
   "outputs": [
    {
     "data": {
      "text/plain": [
       "[[1, 2, 3], [4, 5, 6]]"
      ]
     },
     "execution_count": 5,
     "metadata": {},
     "output_type": "execute_result"
    }
   ],
   "source": [
    "l2=[[1,2,3],[4,5,6]]\n",
    "l2"
   ]
  },
  {
   "cell_type": "code",
   "execution_count": 6,
   "id": "16a1736a",
   "metadata": {},
   "outputs": [
    {
     "data": {
      "text/plain": [
       "list"
      ]
     },
     "execution_count": 6,
     "metadata": {},
     "output_type": "execute_result"
    }
   ],
   "source": [
    "type(l2)"
   ]
  },
  {
   "cell_type": "code",
   "execution_count": 7,
   "id": "01fa45f3",
   "metadata": {},
   "outputs": [
    {
     "data": {
      "text/plain": [
       "array([[1, 2, 3],\n",
       "       [4, 5, 6]])"
      ]
     },
     "execution_count": 7,
     "metadata": {},
     "output_type": "execute_result"
    }
   ],
   "source": [
    "l2=np.array(l2)\n",
    "l2"
   ]
  },
  {
   "cell_type": "code",
   "execution_count": 8,
   "id": "1b50ddcc",
   "metadata": {},
   "outputs": [
    {
     "data": {
      "text/plain": [
       "numpy.ndarray"
      ]
     },
     "execution_count": 8,
     "metadata": {},
     "output_type": "execute_result"
    }
   ],
   "source": [
    "type(l2)"
   ]
  },
  {
   "cell_type": "markdown",
   "id": "f344c476",
   "metadata": {},
   "source": [
    "## By using Built-in Methods:"
   ]
  },
  {
   "cell_type": "markdown",
   "id": "3ddc9a96",
   "metadata": {},
   "source": [
    "### arange() method"
   ]
  },
  {
   "cell_type": "code",
   "execution_count": 9,
   "id": "da103e07",
   "metadata": {},
   "outputs": [
    {
     "data": {
      "text/plain": [
       "array([ 1,  2,  3,  4,  5,  6,  7,  8,  9, 10])"
      ]
     },
     "execution_count": 9,
     "metadata": {},
     "output_type": "execute_result"
    }
   ],
   "source": [
    "l3=np.arange(1,11)\n",
    "l3"
   ]
  },
  {
   "cell_type": "code",
   "execution_count": 10,
   "id": "f98db7e4",
   "metadata": {},
   "outputs": [
    {
     "data": {
      "text/plain": [
       "array([ 0,  3,  6,  9, 12, 15, 18])"
      ]
     },
     "execution_count": 10,
     "metadata": {},
     "output_type": "execute_result"
    }
   ],
   "source": [
    "l4=np.arange(0,21,3)\n",
    "l4"
   ]
  },
  {
   "cell_type": "markdown",
   "id": "a619af91",
   "metadata": {},
   "source": [
    "### zeros() method"
   ]
  },
  {
   "cell_type": "code",
   "execution_count": 11,
   "id": "36266e90",
   "metadata": {},
   "outputs": [
    {
     "data": {
      "text/plain": [
       "array([0., 0., 0.])"
      ]
     },
     "execution_count": 11,
     "metadata": {},
     "output_type": "execute_result"
    }
   ],
   "source": [
    "l5=np.zeros(3)\n",
    "l5"
   ]
  },
  {
   "cell_type": "code",
   "execution_count": 12,
   "id": "84e7d1d7",
   "metadata": {},
   "outputs": [
    {
     "data": {
      "text/plain": [
       "array([[0., 0., 0., 0.],\n",
       "       [0., 0., 0., 0.],\n",
       "       [0., 0., 0., 0.],\n",
       "       [0., 0., 0., 0.]])"
      ]
     },
     "execution_count": 12,
     "metadata": {},
     "output_type": "execute_result"
    }
   ],
   "source": [
    "l6=np.zeros((4,4))\n",
    "l6"
   ]
  },
  {
   "cell_type": "markdown",
   "id": "66dfbe64",
   "metadata": {},
   "source": [
    "### ones() method"
   ]
  },
  {
   "cell_type": "code",
   "execution_count": 13,
   "id": "8a38c870",
   "metadata": {},
   "outputs": [
    {
     "data": {
      "text/plain": [
       "array([1., 1., 1., 1.])"
      ]
     },
     "execution_count": 13,
     "metadata": {},
     "output_type": "execute_result"
    }
   ],
   "source": [
    "l7=np.ones(4)\n",
    "l7"
   ]
  },
  {
   "cell_type": "code",
   "execution_count": 14,
   "id": "2b1618e3",
   "metadata": {},
   "outputs": [
    {
     "data": {
      "text/plain": [
       "array([[1., 1., 1., 1., 1.],\n",
       "       [1., 1., 1., 1., 1.],\n",
       "       [1., 1., 1., 1., 1.]])"
      ]
     },
     "execution_count": 14,
     "metadata": {},
     "output_type": "execute_result"
    }
   ],
   "source": [
    "l8=np.ones((3,5))\n",
    "l8"
   ]
  },
  {
   "cell_type": "markdown",
   "id": "b7b49faa",
   "metadata": {},
   "source": [
    "### linspace() method"
   ]
  },
  {
   "cell_type": "code",
   "execution_count": 15,
   "id": "5ac2880c",
   "metadata": {},
   "outputs": [
    {
     "data": {
      "text/plain": [
       "array([ 0.,  5., 10.])"
      ]
     },
     "execution_count": 15,
     "metadata": {},
     "output_type": "execute_result"
    }
   ],
   "source": [
    "l9=np.linspace(0,10,3)\n",
    "l9"
   ]
  },
  {
   "cell_type": "code",
   "execution_count": 16,
   "id": "00c048bc",
   "metadata": {},
   "outputs": [
    {
     "data": {
      "text/plain": [
       "array([ 1.,  2.,  3.,  4.,  5.,  6.,  7.,  8.,  9., 10., 11., 12., 13.,\n",
       "       14., 15., 16., 17., 18., 19., 20., 21., 22., 23., 24., 25.])"
      ]
     },
     "execution_count": 16,
     "metadata": {},
     "output_type": "execute_result"
    }
   ],
   "source": [
    "l10=np.linspace(1,25,25)\n",
    "l10"
   ]
  },
  {
   "cell_type": "markdown",
   "id": "3ea08d74",
   "metadata": {},
   "source": [
    "### eye() method (creating identity matrix)"
   ]
  },
  {
   "cell_type": "code",
   "execution_count": 17,
   "id": "36d8f712",
   "metadata": {},
   "outputs": [
    {
     "data": {
      "text/plain": [
       "array([[1., 0., 0., 0., 0.],\n",
       "       [0., 1., 0., 0., 0.],\n",
       "       [0., 0., 1., 0., 0.],\n",
       "       [0., 0., 0., 1., 0.],\n",
       "       [0., 0., 0., 0., 1.]])"
      ]
     },
     "execution_count": 17,
     "metadata": {},
     "output_type": "execute_result"
    }
   ],
   "source": [
    "l11=np.eye(5)\n",
    "l11"
   ]
  },
  {
   "cell_type": "markdown",
   "id": "7e20cbbc",
   "metadata": {},
   "source": [
    "## By using Random module:"
   ]
  },
  {
   "cell_type": "markdown",
   "id": "b0ab6f52",
   "metadata": {},
   "source": [
    "### random.rand() method"
   ]
  },
  {
   "cell_type": "code",
   "execution_count": 18,
   "id": "826763b6",
   "metadata": {},
   "outputs": [
    {
     "data": {
      "text/plain": [
       "array([0.981457  , 0.88958099, 0.61383397, 0.3202787 , 0.51818862])"
      ]
     },
     "execution_count": 18,
     "metadata": {},
     "output_type": "execute_result"
    }
   ],
   "source": [
    "l12=np.random.rand(5)\n",
    "l12"
   ]
  },
  {
   "cell_type": "code",
   "execution_count": 19,
   "id": "2f92a30e",
   "metadata": {},
   "outputs": [
    {
     "data": {
      "text/plain": [
       "array([[0.67959985, 0.94505665, 0.35214904, 0.26983591, 0.36302195],\n",
       "       [0.89423873, 0.43819869, 0.51165474, 0.8919981 , 0.90457999],\n",
       "       [0.93867393, 0.34088689, 0.93191956, 0.42042791, 0.09012225],\n",
       "       [0.67508849, 0.85078738, 0.54722348, 0.16539445, 0.78850466]])"
      ]
     },
     "execution_count": 19,
     "metadata": {},
     "output_type": "execute_result"
    }
   ],
   "source": [
    "l13=np.random.rand(4,5)\n",
    "l13"
   ]
  },
  {
   "cell_type": "markdown",
   "id": "8e7c434b",
   "metadata": {},
   "source": [
    "### random.randn() method"
   ]
  },
  {
   "cell_type": "code",
   "execution_count": 20,
   "id": "d48a87e9",
   "metadata": {},
   "outputs": [
    {
     "data": {
      "text/plain": [
       "array([-1.34055042,  1.55440222, -1.34226394,  1.2806442 ])"
      ]
     },
     "execution_count": 20,
     "metadata": {},
     "output_type": "execute_result"
    }
   ],
   "source": [
    "l14=np.random.randn(4)\n",
    "l14"
   ]
  },
  {
   "cell_type": "code",
   "execution_count": 21,
   "id": "7ecade7b",
   "metadata": {},
   "outputs": [
    {
     "data": {
      "text/plain": [
       "array([[-0.49131366, -0.50661295, -0.33561279, -0.61246986],\n",
       "       [-1.70911753, -0.51294974, -1.3561263 ,  0.60716367],\n",
       "       [-0.21600244, -1.51908702, -1.50644758,  0.86682853]])"
      ]
     },
     "execution_count": 21,
     "metadata": {},
     "output_type": "execute_result"
    }
   ],
   "source": [
    "l15=np.random.randn(3,4)\n",
    "l15"
   ]
  },
  {
   "cell_type": "markdown",
   "id": "74930911",
   "metadata": {},
   "source": [
    "### random.randint() method"
   ]
  },
  {
   "cell_type": "code",
   "execution_count": 23,
   "id": "2aaf5b82",
   "metadata": {},
   "outputs": [
    {
     "data": {
      "text/plain": [
       "array([65, 45,  0, 28, 69])"
      ]
     },
     "execution_count": 23,
     "metadata": {},
     "output_type": "execute_result"
    }
   ],
   "source": [
    "l16=np.random.randint(0,101,5)\n",
    "l16"
   ]
  },
  {
   "cell_type": "code",
   "execution_count": 24,
   "id": "58d659ce",
   "metadata": {},
   "outputs": [
    {
     "data": {
      "text/plain": [
       "array([[ 4, 61, 51, 36],\n",
       "       [21, 94, 51, 80],\n",
       "       [50, 83, 78, 75],\n",
       "       [ 7, 95, 41, 22],\n",
       "       [85, 76, 20, 33]])"
      ]
     },
     "execution_count": 24,
     "metadata": {},
     "output_type": "execute_result"
    }
   ],
   "source": [
    "l17=np.random.randint(1,101,(5,4))\n",
    "l17"
   ]
  },
  {
   "cell_type": "markdown",
   "id": "829aa8f8",
   "metadata": {},
   "source": [
    "## Seed function:"
   ]
  },
  {
   "cell_type": "code",
   "execution_count": 25,
   "id": "27e848ee",
   "metadata": {},
   "outputs": [
    {
     "data": {
      "text/plain": [
       "array([7, 4, 8, 5, 7])"
      ]
     },
     "execution_count": 25,
     "metadata": {},
     "output_type": "execute_result"
    }
   ],
   "source": [
    "np.random.seed(42)\n",
    "x1=np.random.randint(1,11,5)\n",
    "x1"
   ]
  },
  {
   "cell_type": "code",
   "execution_count": 27,
   "id": "10d20e16",
   "metadata": {},
   "outputs": [
    {
     "data": {
      "text/plain": [
       "array([4, 8, 2, 7, 3])"
      ]
     },
     "execution_count": 27,
     "metadata": {},
     "output_type": "execute_result"
    }
   ],
   "source": [
    "np.random.seed(108)\n",
    "x2=np.random.randint(1,11,5)\n",
    "x2"
   ]
  },
  {
   "cell_type": "code",
   "execution_count": 28,
   "id": "0d69c15d",
   "metadata": {},
   "outputs": [
    {
     "data": {
      "text/plain": [
       "array([7, 4, 8, 5, 7])"
      ]
     },
     "execution_count": 28,
     "metadata": {},
     "output_type": "execute_result"
    }
   ],
   "source": [
    "np.random.seed(42)\n",
    "x3=np.random.randint(1,11,5)\n",
    "x3"
   ]
  },
  {
   "cell_type": "markdown",
   "id": "2695205c",
   "metadata": {},
   "source": [
    "## Reshaping a numpy array:"
   ]
  },
  {
   "cell_type": "code",
   "execution_count": 29,
   "id": "53075f0a",
   "metadata": {},
   "outputs": [
    {
     "data": {
      "text/plain": [
       "array([ 1, 11, 21, 31, 41, 51, 61, 71, 81, 91])"
      ]
     },
     "execution_count": 29,
     "metadata": {},
     "output_type": "execute_result"
    }
   ],
   "source": [
    "ar1=np.arange(1,101,10)\n",
    "ar1"
   ]
  },
  {
   "cell_type": "code",
   "execution_count": 30,
   "id": "67a6009d",
   "metadata": {},
   "outputs": [
    {
     "data": {
      "text/plain": [
       "array([[ 1, 11],\n",
       "       [21, 31],\n",
       "       [41, 51],\n",
       "       [61, 71],\n",
       "       [81, 91]])"
      ]
     },
     "execution_count": 30,
     "metadata": {},
     "output_type": "execute_result"
    }
   ],
   "source": [
    "ar1=ar1.reshape(5,2)\n",
    "ar1"
   ]
  },
  {
   "cell_type": "markdown",
   "id": "54779f82",
   "metadata": {},
   "source": [
    "## Fetching the dimensions of a numpy array:"
   ]
  },
  {
   "cell_type": "code",
   "execution_count": 31,
   "id": "5f15ce53",
   "metadata": {},
   "outputs": [
    {
     "data": {
      "text/plain": [
       "(5,)"
      ]
     },
     "execution_count": 31,
     "metadata": {},
     "output_type": "execute_result"
    }
   ],
   "source": [
    "np1=np.random.randint(1,101,5)\n",
    "np1.shape"
   ]
  },
  {
   "cell_type": "code",
   "execution_count": 33,
   "id": "8850e1dd",
   "metadata": {},
   "outputs": [
    {
     "data": {
      "text/plain": [
       "(4, 5)"
      ]
     },
     "execution_count": 33,
     "metadata": {},
     "output_type": "execute_result"
    }
   ],
   "source": [
    "np2=np.random.randint(1,101,(4,5))\n",
    "np2.shape"
   ]
  },
  {
   "cell_type": "markdown",
   "id": "c3a788e6",
   "metadata": {},
   "source": [
    "## Finding the maximum and minimum elements in a numpy array and their indices:"
   ]
  },
  {
   "cell_type": "code",
   "execution_count": 34,
   "id": "6165424d",
   "metadata": {},
   "outputs": [
    {
     "data": {
      "text/plain": [
       "array([[59, 42, 92, 60, 80],\n",
       "       [15, 62, 62, 47, 62],\n",
       "       [51, 55, 64,  3, 51],\n",
       "       [ 7, 21, 73, 39, 18],\n",
       "       [ 4, 89, 60, 14,  9],\n",
       "       [90, 53,  2, 84, 92],\n",
       "       [60, 71, 44,  8, 47]])"
      ]
     },
     "execution_count": 34,
     "metadata": {},
     "output_type": "execute_result"
    }
   ],
   "source": [
    "y1=np.random.randint(1,101,(7,5))\n",
    "y1"
   ]
  },
  {
   "cell_type": "markdown",
   "id": "f1302d2a",
   "metadata": {},
   "source": [
    "### Finding the maximum value present in the numpy array:\n",
    "### (The index values are given in terms of 1D array)"
   ]
  },
  {
   "cell_type": "code",
   "execution_count": 35,
   "id": "c115022a",
   "metadata": {},
   "outputs": [
    {
     "data": {
      "text/plain": [
       "92"
      ]
     },
     "execution_count": 35,
     "metadata": {},
     "output_type": "execute_result"
    }
   ],
   "source": [
    "y1.max()"
   ]
  },
  {
   "cell_type": "markdown",
   "id": "408af8dd",
   "metadata": {},
   "source": [
    "### Finding the minimum value present in the numpy array:"
   ]
  },
  {
   "cell_type": "code",
   "execution_count": 36,
   "id": "3b5481cf",
   "metadata": {},
   "outputs": [
    {
     "data": {
      "text/plain": [
       "2"
      ]
     },
     "execution_count": 36,
     "metadata": {},
     "output_type": "execute_result"
    }
   ],
   "source": [
    "y1.min()"
   ]
  },
  {
   "cell_type": "markdown",
   "id": "5cc8ed8e",
   "metadata": {},
   "source": [
    "### Finding the index of maximum element in the array:"
   ]
  },
  {
   "cell_type": "code",
   "execution_count": 37,
   "id": "523fe650",
   "metadata": {},
   "outputs": [
    {
     "data": {
      "text/plain": [
       "2"
      ]
     },
     "execution_count": 37,
     "metadata": {},
     "output_type": "execute_result"
    }
   ],
   "source": [
    "y1.argmax()"
   ]
  },
  {
   "cell_type": "markdown",
   "id": "137d48ca",
   "metadata": {},
   "source": [
    "### Finding the index of minimum element in the array:"
   ]
  },
  {
   "cell_type": "code",
   "execution_count": 38,
   "id": "89c17626",
   "metadata": {},
   "outputs": [
    {
     "data": {
      "text/plain": [
       "27"
      ]
     },
     "execution_count": 38,
     "metadata": {},
     "output_type": "execute_result"
    }
   ],
   "source": [
    "y1.argmin()"
   ]
  }
 ],
 "metadata": {
  "kernelspec": {
   "display_name": "Python 3 (ipykernel)",
   "language": "python",
   "name": "python3"
  },
  "language_info": {
   "codemirror_mode": {
    "name": "ipython",
    "version": 3
   },
   "file_extension": ".py",
   "mimetype": "text/x-python",
   "name": "python",
   "nbconvert_exporter": "python",
   "pygments_lexer": "ipython3",
   "version": "3.9.12"
  }
 },
 "nbformat": 4,
 "nbformat_minor": 5
}
