{
 "cells": [
  {
   "cell_type": "markdown",
   "id": "22044b02",
   "metadata": {},
   "source": [
    "# NumPy Operations:"
   ]
  },
  {
   "cell_type": "code",
   "execution_count": 1,
   "id": "d97715ef",
   "metadata": {},
   "outputs": [],
   "source": [
    "import numpy as np"
   ]
  },
  {
   "cell_type": "code",
   "execution_count": 2,
   "id": "209589b8",
   "metadata": {},
   "outputs": [
    {
     "data": {
      "text/plain": [
       "array([41, 30,  6, 15, 21,  3, 33])"
      ]
     },
     "execution_count": 2,
     "metadata": {},
     "output_type": "execute_result"
    }
   ],
   "source": [
    "x=np.random.randint(1,51,7)\n",
    "x"
   ]
  },
  {
   "cell_type": "code",
   "execution_count": 3,
   "id": "94ba877f",
   "metadata": {},
   "outputs": [
    {
     "data": {
      "text/plain": [
       "array([[32, 47, 18, 31],\n",
       "       [33, 43, 47, 15],\n",
       "       [44, 39, 33, 31]])"
      ]
     },
     "execution_count": 3,
     "metadata": {},
     "output_type": "execute_result"
    }
   ],
   "source": [
    "y=np.random.randint(1,51,(3,4))\n",
    "y"
   ]
  },
  {
   "cell_type": "markdown",
   "id": "e26a5d24",
   "metadata": {},
   "source": [
    "## Normal arithmetic operations using integers:"
   ]
  },
  {
   "cell_type": "code",
   "execution_count": 4,
   "id": "29df4f9c",
   "metadata": {},
   "outputs": [
    {
     "data": {
      "text/plain": [
       "array([46, 35, 11, 20, 26,  8, 38])"
      ]
     },
     "execution_count": 4,
     "metadata": {},
     "output_type": "execute_result"
    }
   ],
   "source": [
    "x=x+5\n",
    "x"
   ]
  },
  {
   "cell_type": "code",
   "execution_count": 5,
   "id": "ba09fc32",
   "metadata": {},
   "outputs": [],
   "source": [
    "y=y+5"
   ]
  },
  {
   "cell_type": "code",
   "execution_count": 6,
   "id": "c78d8b16",
   "metadata": {},
   "outputs": [
    {
     "data": {
      "text/plain": [
       "array([[37, 52, 23, 36],\n",
       "       [38, 48, 52, 20],\n",
       "       [49, 44, 38, 36]])"
      ]
     },
     "execution_count": 6,
     "metadata": {},
     "output_type": "execute_result"
    }
   ],
   "source": [
    "y"
   ]
  },
  {
   "cell_type": "code",
   "execution_count": 7,
   "id": "750ff2ba",
   "metadata": {},
   "outputs": [
    {
     "data": {
      "text/plain": [
       "array([41, 30,  6, 15, 21,  3, 33])"
      ]
     },
     "execution_count": 7,
     "metadata": {},
     "output_type": "execute_result"
    }
   ],
   "source": [
    "x=x-5\n",
    "x"
   ]
  },
  {
   "cell_type": "code",
   "execution_count": 8,
   "id": "93c65951",
   "metadata": {},
   "outputs": [
    {
     "data": {
      "text/plain": [
       "array([[32, 47, 18, 31],\n",
       "       [33, 43, 47, 15],\n",
       "       [44, 39, 33, 31]])"
      ]
     },
     "execution_count": 8,
     "metadata": {},
     "output_type": "execute_result"
    }
   ],
   "source": [
    "y=y-5\n",
    "y"
   ]
  },
  {
   "cell_type": "code",
   "execution_count": 9,
   "id": "bf2bca5b",
   "metadata": {},
   "outputs": [
    {
     "data": {
      "text/plain": [
       "array([123,  90,  18,  45,  63,   9,  99])"
      ]
     },
     "execution_count": 9,
     "metadata": {},
     "output_type": "execute_result"
    }
   ],
   "source": [
    "x=x*3\n",
    "x"
   ]
  },
  {
   "cell_type": "code",
   "execution_count": 10,
   "id": "7a0c326c",
   "metadata": {},
   "outputs": [
    {
     "data": {
      "text/plain": [
       "array([[192, 282, 108, 186],\n",
       "       [198, 258, 282,  90],\n",
       "       [264, 234, 198, 186]])"
      ]
     },
     "execution_count": 10,
     "metadata": {},
     "output_type": "execute_result"
    }
   ],
   "source": [
    "y=y*6\n",
    "y"
   ]
  },
  {
   "cell_type": "code",
   "execution_count": 11,
   "id": "5fb19937",
   "metadata": {},
   "outputs": [
    {
     "data": {
      "text/plain": [
       "array([[32., 47., 18., 31.],\n",
       "       [33., 43., 47., 15.],\n",
       "       [44., 39., 33., 31.]])"
      ]
     },
     "execution_count": 11,
     "metadata": {},
     "output_type": "execute_result"
    }
   ],
   "source": [
    "y=y/6\n",
    "y"
   ]
  },
  {
   "cell_type": "code",
   "execution_count": 12,
   "id": "1c852817",
   "metadata": {},
   "outputs": [
    {
     "data": {
      "text/plain": [
       "array([[32, 47, 18, 31],\n",
       "       [33, 43, 47, 15],\n",
       "       [44, 39, 33, 31]])"
      ]
     },
     "execution_count": 12,
     "metadata": {},
     "output_type": "execute_result"
    }
   ],
   "source": [
    "y=y.astype(int)\n",
    "y"
   ]
  },
  {
   "cell_type": "code",
   "execution_count": 13,
   "id": "d1154f6f",
   "metadata": {},
   "outputs": [
    {
     "data": {
      "text/plain": [
       "array([41, 30,  6, 15, 21,  3, 33])"
      ]
     },
     "execution_count": 13,
     "metadata": {},
     "output_type": "execute_result"
    }
   ],
   "source": [
    "x=x/3\n",
    "x=x.astype(int)\n",
    "x"
   ]
  },
  {
   "cell_type": "code",
   "execution_count": 14,
   "id": "8ba76e43",
   "metadata": {},
   "outputs": [
    {
     "data": {
      "text/plain": [
       "array([0.02439024, 0.03333333, 0.16666667, 0.06666667, 0.04761905,\n",
       "       0.33333333, 0.03030303])"
      ]
     },
     "execution_count": 14,
     "metadata": {},
     "output_type": "execute_result"
    }
   ],
   "source": [
    "x=1/x\n",
    "x"
   ]
  },
  {
   "cell_type": "code",
   "execution_count": 15,
   "id": "7baffc41",
   "metadata": {},
   "outputs": [
    {
     "data": {
      "text/plain": [
       "array([41., 30.,  6., 15., 21.,  3., 33.])"
      ]
     },
     "execution_count": 15,
     "metadata": {},
     "output_type": "execute_result"
    }
   ],
   "source": [
    "x=1/x\n",
    "x"
   ]
  },
  {
   "cell_type": "code",
   "execution_count": 16,
   "id": "ed76adfe",
   "metadata": {},
   "outputs": [
    {
     "data": {
      "text/plain": [
       "array([41, 30,  6, 15, 21,  3, 33])"
      ]
     },
     "execution_count": 16,
     "metadata": {},
     "output_type": "execute_result"
    }
   ],
   "source": [
    "x=x.astype(int)\n",
    "x"
   ]
  },
  {
   "cell_type": "code",
   "execution_count": 17,
   "id": "02cb9643",
   "metadata": {},
   "outputs": [
    {
     "data": {
      "text/plain": [
       "array([[0.03125   , 0.0212766 , 0.05555556, 0.03225806],\n",
       "       [0.03030303, 0.02325581, 0.0212766 , 0.06666667],\n",
       "       [0.02272727, 0.02564103, 0.03030303, 0.03225806]])"
      ]
     },
     "execution_count": 17,
     "metadata": {},
     "output_type": "execute_result"
    }
   ],
   "source": [
    "y=1/y\n",
    "y"
   ]
  },
  {
   "cell_type": "code",
   "execution_count": 18,
   "id": "1a55436d",
   "metadata": {},
   "outputs": [
    {
     "data": {
      "text/plain": [
       "array([[32, 47, 18, 31],\n",
       "       [33, 43, 47, 15],\n",
       "       [44, 39, 33, 31]])"
      ]
     },
     "execution_count": 18,
     "metadata": {},
     "output_type": "execute_result"
    }
   ],
   "source": [
    "y=1/y\n",
    "y=y.astype(int)\n",
    "y"
   ]
  },
  {
   "cell_type": "code",
   "execution_count": 19,
   "id": "9ee4e18e",
   "metadata": {},
   "outputs": [
    {
     "data": {
      "text/plain": [
       "array([0., 0., 0., 0.])"
      ]
     },
     "execution_count": 19,
     "metadata": {},
     "output_type": "execute_result"
    }
   ],
   "source": [
    "a1=np.zeros(4)\n",
    "a1"
   ]
  },
  {
   "cell_type": "code",
   "execution_count": 20,
   "id": "5ac92912",
   "metadata": {},
   "outputs": [
    {
     "name": "stderr",
     "output_type": "stream",
     "text": [
      "C:\\Users\\MYPC\\AppData\\Local\\Temp\\ipykernel_3848\\3954794133.py:1: RuntimeWarning: divide by zero encountered in true_divide\n",
      "  a1=1/a1\n"
     ]
    },
    {
     "data": {
      "text/plain": [
       "array([inf, inf, inf, inf])"
      ]
     },
     "execution_count": 20,
     "metadata": {},
     "output_type": "execute_result"
    }
   ],
   "source": [
    "a1=1/a1\n",
    "a1"
   ]
  },
  {
   "cell_type": "code",
   "execution_count": 21,
   "id": "38ac3094",
   "metadata": {},
   "outputs": [
    {
     "data": {
      "text/plain": [
       "array([0, 0, 0, 0])"
      ]
     },
     "execution_count": 21,
     "metadata": {},
     "output_type": "execute_result"
    }
   ],
   "source": [
    "a1=1/a1\n",
    "a1=a1.astype(int)\n",
    "a1"
   ]
  },
  {
   "cell_type": "code",
   "execution_count": 22,
   "id": "556d6af0",
   "metadata": {},
   "outputs": [
    {
     "name": "stderr",
     "output_type": "stream",
     "text": [
      "C:\\Users\\MYPC\\AppData\\Local\\Temp\\ipykernel_3848\\530315797.py:1: RuntimeWarning: invalid value encountered in true_divide\n",
      "  a1=a1/a1\n"
     ]
    },
    {
     "data": {
      "text/plain": [
       "array([nan, nan, nan, nan])"
      ]
     },
     "execution_count": 22,
     "metadata": {},
     "output_type": "execute_result"
    }
   ],
   "source": [
    "a1=a1/a1\n",
    "a1"
   ]
  },
  {
   "cell_type": "markdown",
   "id": "e8a4dc06",
   "metadata": {},
   "source": [
    "### square roots:"
   ]
  },
  {
   "cell_type": "code",
   "execution_count": 24,
   "id": "a0502f6c",
   "metadata": {},
   "outputs": [
    {
     "data": {
      "text/plain": [
       "array([ 6.,  7.,  8.,  9., 10., 11., 12., 13., 14., 15., 16., 17., 18.,\n",
       "       19.])"
      ]
     },
     "execution_count": 24,
     "metadata": {},
     "output_type": "execute_result"
    }
   ],
   "source": [
    "c1=np.array([36,49,64,81,100,121,144,169,196,225,256,289,324,361])\n",
    "c1=np.sqrt(c1)\n",
    "c1"
   ]
  },
  {
   "cell_type": "markdown",
   "id": "eabf11dc",
   "metadata": {},
   "source": [
    "### log values:"
   ]
  },
  {
   "cell_type": "code",
   "execution_count": 34,
   "id": "20a56dd7",
   "metadata": {},
   "outputs": [
    {
     "data": {
      "text/plain": [
       "array([1.00063188, 4.60517019, 6.90775528, 9.21034037])"
      ]
     },
     "execution_count": 34,
     "metadata": {},
     "output_type": "execute_result"
    }
   ],
   "source": [
    "c2=np.array([2.72,100,1000,10000])\n",
    "c2=np.log(c2)\n",
    "c2"
   ]
  },
  {
   "cell_type": "code",
   "execution_count": 35,
   "id": "7708f1c5",
   "metadata": {},
   "outputs": [],
   "source": [
    "c2=c2.astype(int)"
   ]
  },
  {
   "cell_type": "code",
   "execution_count": 36,
   "id": "6c5ad722",
   "metadata": {},
   "outputs": [
    {
     "data": {
      "text/plain": [
       "array([1, 4, 6, 9])"
      ]
     },
     "execution_count": 36,
     "metadata": {},
     "output_type": "execute_result"
    }
   ],
   "source": [
    "c2"
   ]
  },
  {
   "cell_type": "markdown",
   "id": "77236a3b",
   "metadata": {},
   "source": [
    "### sine values:"
   ]
  },
  {
   "cell_type": "code",
   "execution_count": 46,
   "id": "6e54b47c",
   "metadata": {},
   "outputs": [
    {
     "data": {
      "text/plain": [
       "array([0.       , 0.9999998, 0.5001825])"
      ]
     },
     "execution_count": 46,
     "metadata": {},
     "output_type": "execute_result"
    }
   ],
   "source": [
    "c3=np.array([0,((22/7)/2),(22/7)/6])\n",
    "c3=np.sin(c3)\n",
    "c3"
   ]
  },
  {
   "cell_type": "code",
   "execution_count": 47,
   "id": "c71f050d",
   "metadata": {},
   "outputs": [
    {
     "data": {
      "text/plain": [
       "array([41, 30,  6, 15, 21,  3, 33])"
      ]
     },
     "execution_count": 47,
     "metadata": {},
     "output_type": "execute_result"
    }
   ],
   "source": [
    "x"
   ]
  },
  {
   "cell_type": "code",
   "execution_count": 48,
   "id": "4bd57e82",
   "metadata": {},
   "outputs": [
    {
     "data": {
      "text/plain": [
       "array([[32, 47, 18, 31],\n",
       "       [33, 43, 47, 15],\n",
       "       [44, 39, 33, 31]])"
      ]
     },
     "execution_count": 48,
     "metadata": {},
     "output_type": "execute_result"
    }
   ],
   "source": [
    "y"
   ]
  },
  {
   "cell_type": "markdown",
   "id": "bf646e05",
   "metadata": {},
   "source": [
    "## returning sum,mean,variance,standard deviation,max and min elements in an array:"
   ]
  },
  {
   "cell_type": "markdown",
   "id": "ca8071ae",
   "metadata": {},
   "source": [
    "### for 1D array:"
   ]
  },
  {
   "cell_type": "code",
   "execution_count": 50,
   "id": "e3bd8f74",
   "metadata": {},
   "outputs": [
    {
     "data": {
      "text/plain": [
       "149"
      ]
     },
     "execution_count": 50,
     "metadata": {},
     "output_type": "execute_result"
    }
   ],
   "source": [
    "xa=x.sum()\n",
    "xa"
   ]
  },
  {
   "cell_type": "code",
   "execution_count": 51,
   "id": "4e0e71fe",
   "metadata": {},
   "outputs": [
    {
     "data": {
      "text/plain": [
       "21.285714285714285"
      ]
     },
     "execution_count": 51,
     "metadata": {},
     "output_type": "execute_result"
    }
   ],
   "source": [
    "xb=x.mean()\n",
    "xb"
   ]
  },
  {
   "cell_type": "code",
   "execution_count": 52,
   "id": "a4a49712",
   "metadata": {},
   "outputs": [
    {
     "data": {
      "text/plain": [
       "172.77551020408163"
      ]
     },
     "execution_count": 52,
     "metadata": {},
     "output_type": "execute_result"
    }
   ],
   "source": [
    "xc=x.var()\n",
    "xc"
   ]
  },
  {
   "cell_type": "code",
   "execution_count": 53,
   "id": "cff042ae",
   "metadata": {},
   "outputs": [
    {
     "data": {
      "text/plain": [
       "13.14440984616965"
      ]
     },
     "execution_count": 53,
     "metadata": {},
     "output_type": "execute_result"
    }
   ],
   "source": [
    "xd=x.std()\n",
    "xd"
   ]
  },
  {
   "cell_type": "code",
   "execution_count": 54,
   "id": "af9ba2ca",
   "metadata": {},
   "outputs": [
    {
     "data": {
      "text/plain": [
       "41"
      ]
     },
     "execution_count": 54,
     "metadata": {},
     "output_type": "execute_result"
    }
   ],
   "source": [
    "xmax=x.max()\n",
    "xmax"
   ]
  },
  {
   "cell_type": "markdown",
   "id": "62676f76",
   "metadata": {},
   "source": [
    "### for 2D array:"
   ]
  },
  {
   "cell_type": "markdown",
   "id": "b6f4c045",
   "metadata": {},
   "source": [
    "#### for the sum of all the elements in the 2D array:"
   ]
  },
  {
   "cell_type": "code",
   "execution_count": 55,
   "id": "38657ce3",
   "metadata": {},
   "outputs": [
    {
     "data": {
      "text/plain": [
       "413"
      ]
     },
     "execution_count": 55,
     "metadata": {},
     "output_type": "execute_result"
    }
   ],
   "source": [
    "ya=y.sum()\n",
    "ya"
   ]
  },
  {
   "cell_type": "markdown",
   "id": "fc1a53dd",
   "metadata": {},
   "source": [
    "#### for the sum of all the elements in each column of the 2D array:"
   ]
  },
  {
   "cell_type": "code",
   "execution_count": 56,
   "id": "629a56c8",
   "metadata": {},
   "outputs": [
    {
     "data": {
      "text/plain": [
       "array([109, 129,  98,  77])"
      ]
     },
     "execution_count": 56,
     "metadata": {},
     "output_type": "execute_result"
    }
   ],
   "source": [
    "yac=y.sum(axis=0)\n",
    "yac"
   ]
  },
  {
   "cell_type": "markdown",
   "id": "0c60e450",
   "metadata": {},
   "source": [
    "#### for the sum of all the elements in each row of the 2D array:"
   ]
  },
  {
   "cell_type": "code",
   "execution_count": 57,
   "id": "e563fbd6",
   "metadata": {},
   "outputs": [
    {
     "data": {
      "text/plain": [
       "array([128, 138, 147])"
      ]
     },
     "execution_count": 57,
     "metadata": {},
     "output_type": "execute_result"
    }
   ],
   "source": [
    "yar=y.sum(axis=1)\n",
    "yar"
   ]
  },
  {
   "cell_type": "markdown",
   "id": "65a5ab77",
   "metadata": {},
   "source": [
    "#### for the mean of all the elements in each column of the 2D array:"
   ]
  },
  {
   "cell_type": "code",
   "execution_count": 60,
   "id": "e311b524",
   "metadata": {},
   "outputs": [
    {
     "data": {
      "text/plain": [
       "array([36.33333333, 43.        , 32.66666667, 25.66666667])"
      ]
     },
     "execution_count": 60,
     "metadata": {},
     "output_type": "execute_result"
    }
   ],
   "source": [
    "yac=y.mean(axis=0)\n",
    "yac"
   ]
  },
  {
   "cell_type": "markdown",
   "id": "9bd8c05e",
   "metadata": {},
   "source": [
    "#### for the sum of all the elements in each row of the 2D array:"
   ]
  },
  {
   "cell_type": "code",
   "execution_count": 61,
   "id": "559a0386",
   "metadata": {},
   "outputs": [
    {
     "data": {
      "text/plain": [
       "array([32.  , 34.5 , 36.75])"
      ]
     },
     "execution_count": 61,
     "metadata": {},
     "output_type": "execute_result"
    }
   ],
   "source": [
    "yar=y.mean(axis=1)\n",
    "yar"
   ]
  },
  {
   "cell_type": "markdown",
   "id": "4508ea25",
   "metadata": {},
   "source": [
    "#### for the variance of all the elements in each column of the 2D array:"
   ]
  },
  {
   "cell_type": "code",
   "execution_count": 62,
   "id": "aa39aa9f",
   "metadata": {},
   "outputs": [
    {
     "data": {
      "text/plain": [
       "array([ 29.55555556,  10.66666667, 140.22222222,  56.88888889])"
      ]
     },
     "execution_count": 62,
     "metadata": {},
     "output_type": "execute_result"
    }
   ],
   "source": [
    "yac=y.var(axis=0)\n",
    "yac"
   ]
  },
  {
   "cell_type": "markdown",
   "id": "ebea1dac",
   "metadata": {},
   "source": [
    "#### for the variance of all the elements in each row of the 2D array:"
   ]
  },
  {
   "cell_type": "code",
   "execution_count": 64,
   "id": "75b1cf55",
   "metadata": {},
   "outputs": [
    {
     "data": {
      "text/plain": [
       "array([105.5   , 152.75  ,  26.1875])"
      ]
     },
     "execution_count": 64,
     "metadata": {},
     "output_type": "execute_result"
    }
   ],
   "source": [
    "yar=y.var(axis=1)\n",
    "yar"
   ]
  },
  {
   "cell_type": "code",
   "execution_count": null,
   "id": "87377dd3",
   "metadata": {},
   "outputs": [],
   "source": []
  }
 ],
 "metadata": {
  "kernelspec": {
   "display_name": "Python 3 (ipykernel)",
   "language": "python",
   "name": "python3"
  },
  "language_info": {
   "codemirror_mode": {
    "name": "ipython",
    "version": 3
   },
   "file_extension": ".py",
   "mimetype": "text/x-python",
   "name": "python",
   "nbconvert_exporter": "python",
   "pygments_lexer": "ipython3",
   "version": "3.9.12"
  }
 },
 "nbformat": 4,
 "nbformat_minor": 5
}
